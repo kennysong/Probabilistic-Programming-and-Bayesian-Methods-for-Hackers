{
 "cells": [
  {
   "cell_type": "markdown",
   "metadata": {},
   "source": [
    "Chapter 2\n",
    "======\n",
    "___\n",
    "\n",
    "This chapter introduces more PyMC3 syntax and variables and ways to think about how to model a system from a Bayesian perspective. It also contains tips and data visualization techniques for assessing goodness-of-fit for your Bayesian model."
   ]
  },
  {
   "cell_type": "markdown",
   "metadata": {},
   "source": [
    "## A little more on PyMC3"
   ]
  },
  {
   "cell_type": "markdown",
   "metadata": {},
   "source": [
    "### Model Context\n"
   ]
  },
  {
   "cell_type": "markdown",
   "metadata": {},
   "source": [
    "In PyMC3, we typically handle all the variables we want in our model within the context of the `Model` object."
   ]
  },
  {
   "cell_type": "code",
   "execution_count": 1,
   "metadata": {
    "collapsed": false,
    "jupyter": {
     "outputs_hidden": false
    }
   },
   "outputs": [],
   "source": [
    "import pymc3 as pm\n",
    "\n",
    "with pm.Model() as model:\n",
    "    parameter = pm.Exponential(\"poisson_param\", 1.0)\n",
    "    data_generator = pm.Poisson(\"data_generator\", parameter)"
   ]
  },
  {
   "cell_type": "markdown",
   "metadata": {},
   "source": [
    "This is an extra layer of convenience compared to PyMC. Any variables created within a given `Model`'s context will be automatically assigned to that model. If you try to define a variable outside of the context of a model, you will get an error.\n",
    "\n",
    "We can continue to work within the context of the same model by using `with` with the name of the model object that we have already created."
   ]
  },
  {
   "cell_type": "code",
   "execution_count": 2,
   "metadata": {},
   "outputs": [],
   "source": [
    "with model:\n",
    "    data_plus_one = data_generator + 1"
   ]
  },
  {
   "cell_type": "markdown",
   "metadata": {},
   "source": [
    "We can examine the same variables outside of the model context once they have been defined, but to define more variables that the model will recognize they have to be within the context."
   ]
  },
  {
   "cell_type": "code",
   "execution_count": 3,
   "metadata": {
    "collapsed": false,
    "jupyter": {
     "outputs_hidden": false
    }
   },
   "outputs": [
    {
     "data": {
      "text/plain": [
       "array(0.69314718)"
      ]
     },
     "execution_count": 3,
     "metadata": {},
     "output_type": "execute_result"
    }
   ],
   "source": [
    "parameter.tag.test_value"
   ]
  },
  {
   "cell_type": "code",
   "execution_count": 4,
   "metadata": {},
   "outputs": [
    {
     "data": {
      "text/plain": [
       "{'tag': scratchpad{'test_value': array(0.69314718)},\n",
       " 'type': TensorType(float64, scalar),\n",
       " 'owner': ViewOp(Elemwise{exp,no_inplace}.0),\n",
       " 'index': 0,\n",
       " 'name': 'poisson_param',\n",
       " 'auto_name': 'auto_1265',\n",
       " 'transformation': <pymc3.distributions.transforms.Log at 0x11b4903d0>,\n",
       " 'model': <pymc3.model.Model at 0x11c757b90>,\n",
       " 'distribution': <pymc3.distributions.continuous.Exponential at 0x11cd98d90>,\n",
       " 'dshape': (),\n",
       " 'dsize': 1,\n",
       " 'transformed': poisson_param_log__,\n",
       " 'scaling': TensorConstant{1.0},\n",
       " 'random': <pymc3.model.InstanceMethod at 0x11e757610>}"
      ]
     },
     "execution_count": 4,
     "metadata": {},
     "output_type": "execute_result"
    }
   ],
   "source": [
    "vars(parameter)"
   ]
  },
  {
   "cell_type": "markdown",
   "metadata": {},
   "source": [
    "Each variable assigned to a model will be defined with its own name, the first string parameter (we will cover this further in the variables section). To create a different model object with the same name as one we have used previously, we need only run the first block of code again."
   ]
  },
  {
   "cell_type": "code",
   "execution_count": 5,
   "metadata": {
    "collapsed": false,
    "jupyter": {
     "outputs_hidden": false
    }
   },
   "outputs": [],
   "source": [
    "with pm.Model() as model:\n",
    "    theta = pm.Exponential(\"theta\", 2.0)\n",
    "    data_generator = pm.Poisson(\"data_generator\", theta)"
   ]
  },
  {
   "cell_type": "code",
   "execution_count": 6,
   "metadata": {},
   "outputs": [
    {
     "data": {
      "text/latex": [
       "$$\n",
       "            \\begin{array}{rcl}\n",
       "            \\text{data_generator} &\\sim & \\text{Poisson}(\\mathit{mu}=\\text{theta})\\\\\\text{theta} &\\sim & \\text{Exponential}(\\mathit{lam}=2.0)\n",
       "            \\end{array}\n",
       "            $$"
      ],
      "text/plain": [
       "<pymc3.model.Model at 0x11e843110>"
      ]
     },
     "execution_count": 6,
     "metadata": {},
     "output_type": "execute_result"
    }
   ],
   "source": [
    "model"
   ]
  },
  {
   "cell_type": "markdown",
   "metadata": {},
   "source": [
    "We can also define an entirely separate model. Note that we are free to name our models whatever we like, so if we do not want to overwrite an old model we need only make another."
   ]
  },
  {
   "cell_type": "code",
   "execution_count": 7,
   "metadata": {
    "collapsed": false,
    "jupyter": {
     "outputs_hidden": false
    }
   },
   "outputs": [],
   "source": [
    "with pm.Model() as ab_testing:\n",
    "    p_A = pm.Uniform(\"P(A)\", 0, 1)\n",
    "    p_B = pm.Uniform(\"P(B)\", 0, 1)"
   ]
  },
  {
   "cell_type": "code",
   "execution_count": 8,
   "metadata": {},
   "outputs": [
    {
     "data": {
      "text/latex": [
       "$$\n",
       "            \\begin{array}{rcl}\n",
       "            \\text{P(A)} &\\sim & \\text{Uniform}(\\mathit{lower}=0.0,~\\mathit{upper}=1.0)\\\\\\text{P(B)} &\\sim & \\text{Uniform}(\\mathit{lower}=0.0,~\\mathit{upper}=1.0)\n",
       "            \\end{array}\n",
       "            $$"
      ],
      "text/plain": [
       "<pymc3.model.Model at 0x11e75d990>"
      ]
     },
     "execution_count": 8,
     "metadata": {},
     "output_type": "execute_result"
    }
   ],
   "source": [
    "ab_testing"
   ]
  },
  {
   "cell_type": "code",
   "execution_count": 9,
   "metadata": {},
   "outputs": [
    {
     "data": {
      "text/plain": [
       "{'tag': scratchpad{'test_value': array(0.5)},\n",
       " 'type': TensorType(float64, scalar),\n",
       " 'owner': ViewOp(Elemwise{add,no_inplace}.0),\n",
       " 'index': 0,\n",
       " 'name': 'P(A)',\n",
       " 'auto_name': 'auto_5726',\n",
       " 'transformation': <pymc3.distributions.transforms.Interval at 0x11e956c90>,\n",
       " 'model': <pymc3.model.Model at 0x11e75d990>,\n",
       " 'distribution': <pymc3.distributions.continuous.Uniform at 0x11e75d850>,\n",
       " 'dshape': (),\n",
       " 'dsize': 1,\n",
       " 'transformed': P(A)_interval__,\n",
       " 'scaling': TensorConstant{1.0},\n",
       " 'random': <pymc3.model.InstanceMethod at 0x11e964390>}"
      ]
     },
     "execution_count": 9,
     "metadata": {},
     "output_type": "execute_result"
    }
   ],
   "source": [
    "vars(p_A)"
   ]
  },
  {
   "cell_type": "markdown",
   "metadata": {},
   "source": [
    "### PyMC3 Variables\n"
   ]
  },
  {
   "cell_type": "markdown",
   "metadata": {},
   "source": [
    "All PyMC3 variables have an initial value (i.e. test value). Using the same variables from before:"
   ]
  },
  {
   "cell_type": "code",
   "execution_count": 10,
   "metadata": {
    "collapsed": false,
    "jupyter": {
     "outputs_hidden": false
    }
   },
   "outputs": [
    {
     "name": "stdout",
     "output_type": "stream",
     "text": [
      "parameter.tag.test_value = 0.6931471824645996\n",
      "data_generator.tag.test_value = 0\n",
      "data_plus_one.tag.test_value = 1\n"
     ]
    }
   ],
   "source": [
    "print(\"parameter.tag.test_value =\", parameter.tag.test_value)\n",
    "print(\"data_generator.tag.test_value =\", data_generator.tag.test_value)\n",
    "print(\"data_plus_one.tag.test_value =\", data_plus_one.tag.test_value)"
   ]
  },
  {
   "cell_type": "markdown",
   "metadata": {},
   "source": [
    "The `test_value` is used only for the model, as the starting point for sampling if no other start is specified. It will not change as a result of sampling. This initial state can be changed at variable creation by specifying a value for the `testval` parameter."
   ]
  },
  {
   "cell_type": "code",
   "execution_count": 11,
   "metadata": {
    "collapsed": false,
    "jupyter": {
     "outputs_hidden": false
    }
   },
   "outputs": [
    {
     "name": "stdout",
     "output_type": "stream",
     "text": [
      "\n",
      "parameter.tag.test_value = 0.5\n"
     ]
    }
   ],
   "source": [
    "with pm.Model() as model:\n",
    "    parameter = pm.Exponential(\"poisson_param\", 1.0, testval=0.5)\n",
    "\n",
    "print(\"\\nparameter.tag.test_value =\", parameter.tag.test_value)"
   ]
  },
  {
   "cell_type": "markdown",
   "metadata": {},
   "source": [
    "This can be helpful if you are using a more unstable prior that may require a better starting point.\n",
    "\n",
    "PyMC3 is concerned with two types of programming variables: stochastic and deterministic.\n",
    "\n",
    "*  *stochastic variables* are variables that are not deterministic, i.e., even if you knew all the values of the variables' parameters and components, it would still be random. Included in this category are instances of classes `Poisson`, `DiscreteUniform`, and `Exponential`.\n",
    "\n",
    "*  *deterministic variables* are variables that are not random if the variables' parameters and components were known. This might be confusing at first: a quick mental check is *if I knew all of variable `foo`'s component variables, I could determine what `foo`'s value is.* \n",
    "\n",
    "We will detail each below."
   ]
  },
  {
   "cell_type": "markdown",
   "metadata": {},
   "source": [
    "#### Initializing Stochastic variables"
   ]
  },
  {
   "cell_type": "markdown",
   "metadata": {},
   "source": [
    "Initializing a stochastic, or random, variable requires a `name` argument, plus additional parameters that are class specific. For example:\n",
    "\n",
    "`some_variable = pm.DiscreteUniform(\"discrete_uni_var\", 0, 4)`\n",
    "\n",
    "where 0, 4 are the `DiscreteUniform`-specific lower and upper bound on the random variable. The [PyMC3 docs](http://pymc-devs.github.io/pymc3/api.html) contain the specific parameters for stochastic variables. (Or use `??` if you are using IPython!)\n",
    "\n",
    "The `name` attribute is used to retrieve the posterior distribution later in the analysis, so it is best to use a descriptive name. Typically, I use the Python variable's name as the `name`.\n",
    "\n",
    "For multivariable problems, rather than creating a Python array of stochastic variables, addressing the `shape` keyword in the call to a stochastic variable creates multivariate array of (independent) stochastic variables. The array behaves like a NumPy array when used like one, and references to its `tag.test_value` attribute return NumPy arrays.  \n",
    "\n",
    "The `shape` argument also solves the annoying case where you may have many variables $\\beta_i, \\; i = 1,...,N$ you wish to model. Instead of creating arbitrary names and variables for each one, like:\n",
    "\n",
    "    beta_1 = pm.Uniform(\"beta_1\", 0, 1)\n",
    "    beta_2 = pm.Uniform(\"beta_2\", 0, 1)\n",
    "    ...\n",
    "\n",
    "we can instead wrap them into a single variable:\n",
    "\n",
    "    betas = pm.Uniform(\"betas\", 0, 1, shape=N)"
   ]
  },
  {
   "cell_type": "markdown",
   "metadata": {},
   "source": [
    "#### Deterministic variables"
   ]
  },
  {
   "cell_type": "markdown",
   "metadata": {},
   "source": [
    "We can create a deterministic variable similarly to how we create a stochastic variable. We simply call up the `Deterministic` class in PyMC3 and pass in the function that we desire\n",
    "\n",
    "    deterministic_variable = pm.Deterministic(\"deterministic variable\", some_function_of_variables)\n",
    "\n",
    "For all purposes, we can treat the object `some_deterministic_var` as a variable and not a Python function. \n",
    "\n",
    "Calling `pymc3.Deterministic` is the most obvious way, but not the only way, to create deterministic variables. Elementary operations, like addition, exponentials etc. implicitly create deterministic variables. For example, the following returns a deterministic variable:"
   ]
  },
  {
   "cell_type": "code",
   "execution_count": 12,
   "metadata": {
    "collapsed": false,
    "jupyter": {
     "outputs_hidden": false
    }
   },
   "outputs": [
    {
     "data": {
      "text/plain": [
       "Elemwise{add,no_inplace}.0"
      ]
     },
     "execution_count": 12,
     "metadata": {},
     "output_type": "execute_result"
    }
   ],
   "source": [
    "with pm.Model() as model:\n",
    "    lambda_1 = pm.Exponential(\"lambda_1\", 1.0)\n",
    "    lambda_2 = pm.Exponential(\"lambda_2\", 1.0)\n",
    "    tau = pm.DiscreteUniform(\"tau\", lower=0, upper=10)\n",
    "\n",
    "new_deterministic_variable = lambda_1 + lambda_2\n",
    "new_deterministic_variable"
   ]
  },
  {
   "cell_type": "markdown",
   "metadata": {},
   "source": [
    "If we want a `deterministic` variable to actually be tracked by our sampling, however, we need to define it explicitly as a named `deterministic` variable with the constructor.\n",
    "\n",
    "The use of the `deterministic` variable was seen in the previous chapter's text-message example.  Recall the model for $\\lambda$ looked like: \n",
    "\n",
    "$$\n",
    "\\lambda = \n",
    "\\begin{cases}\\lambda_1  & \\text{if } t \\lt \\tau \\cr\n",
    "\\lambda_2 & \\text{if } t \\ge \\tau\n",
    "\\end{cases}\n",
    "$$\n",
    "\n",
    "And in PyMC3 code:"
   ]
  },
  {
   "cell_type": "code",
   "execution_count": 13,
   "metadata": {
    "collapsed": false,
    "jupyter": {
     "outputs_hidden": false
    }
   },
   "outputs": [],
   "source": [
    "import numpy as np\n",
    "\n",
    "n_data_points = 5  # in CH1 we had ~70 data points\n",
    "idx = np.arange(n_data_points)\n",
    "with model:\n",
    "    lambda_ = pm.math.switch(tau >= idx, lambda_1, lambda_2)"
   ]
  },
  {
   "cell_type": "code",
   "execution_count": 14,
   "metadata": {},
   "outputs": [
    {
     "data": {
      "text/plain": [
       "Elemwise{switch,no_inplace}.0"
      ]
     },
     "execution_count": 14,
     "metadata": {},
     "output_type": "execute_result"
    }
   ],
   "source": [
    "lambda_"
   ]
  },
  {
   "cell_type": "markdown",
   "metadata": {},
   "source": [
    "Clearly, if $\\tau, \\lambda_1$ and $\\lambda_2$ are known, then $\\lambda$ is known completely, hence it is a deterministic variable. We use the `switch` function here to change from $\\lambda_1$ to $\\lambda_2$ at the appropriate time. This function is directly from the `theano` package, which we will discuss in the next section.\n",
    "\n",
    "Inside a `deterministic` variable, the stochastic variables passed in behave like scalars or NumPy arrays (if multivariable). We can do whatever we want with them as long as the dimensions match up in our calculations.\n",
    "\n",
    "For example, running the following:\n",
    "\n",
    "    def subtract(x, y):\n",
    "        return x - y\n",
    "    \n",
    "    stochastic_1 = pm.Uniform(\"U_1\", 0, 1)\n",
    "    stochastic_2 = pm.Uniform(\"U_2\", 0, 1)\n",
    "    \n",
    "    det_1 = pm.Deterministic(\"Delta\", subtract(stochastic_1, stochastic_2))\n",
    "    \n",
    "Is perfectly valid PyMC3 code. Saying that our expressions behave like NumPy arrays is not exactly honest here, however. The main catch is that the expression that we are making *must* be compatible with `theano` tensors, which we will cover in the next section. Feel free to define whatever functions that you need in order to compose your model. However, if you need to do any array-like calculations that would require NumPy functions, make sure you use their equivalents in `theano`."
   ]
  },
  {
   "cell_type": "markdown",
   "metadata": {},
   "source": [
    "### Theano"
   ]
  },
  {
   "cell_type": "markdown",
   "metadata": {},
   "source": [
    "The majority of the heavy lifting done by PyMC3 is taken care of with the `theano` package. The notation in `theano` is remarkably similar to NumPy. It also supports many of the familiar computational elements of NumPy. However, while NumPy directly executes computations, e.g. when you run `a + b`, `theano` instead builds up a \"compute graph\" that tracks that you want to perform the `+` operation on the elements `a` and `b`. Only when you `eval()` a `theano` expression does the computation take place (i.e. `theano` is lazy evaluated). Once the compute graph is built, we can perform all kinds of mathematical optimizations (e.g. simplifications), compute gradients via autodiff, compile the entire graph to C to run at machine speed, and also compile it to run on the GPU. PyMC3 is basically a collection of `theano` symbolic expressions for various probability distributions that are combined to one big compute graph making up the whole model log probability, and a collection of inference algorithms that use that graph to compute probabilities and gradients. For practical purposes, what this means is that in order to build certain models we sometimes have to use `theano`.\n",
    "\n",
    "Let's write some PyMC3 code that involves `theano` calculations."
   ]
  },
  {
   "cell_type": "code",
   "execution_count": 15,
   "metadata": {
    "collapsed": false,
    "jupyter": {
     "outputs_hidden": false
    }
   },
   "outputs": [],
   "source": [
    "import theano.tensor as tt\n",
    "\n",
    "with pm.Model() as theano_test:\n",
    "    p1 = pm.Uniform(\"p\", 0, 1)\n",
    "    p2 = 1 - p1\n",
    "    p = tt.stack([p1, p2])\n",
    "    \n",
    "    assignment = pm.Categorical(\"assignment\", p)"
   ]
  },
  {
   "cell_type": "code",
   "execution_count": 16,
   "metadata": {},
   "outputs": [
    {
     "data": {
      "text/latex": [
       "$\\text{assignment} \\sim \\text{Categorical}(\\mathit{p}=f(\\text{p},~f(\\text{p})))$"
      ],
      "text/plain": [
       "assignment"
      ]
     },
     "execution_count": 16,
     "metadata": {},
     "output_type": "execute_result"
    }
   ],
   "source": [
    "assignment"
   ]
  },
  {
   "cell_type": "markdown",
   "metadata": {},
   "source": [
    "Here we use `theano`'s `stack()` function in the same way we would use one of NumPy's stacking functions: to combine our two separate variables, `p1` and `p2`, into a vector with $2$ elements. The stochastic `categorical` variable does not understand what we mean if we pass a NumPy array of `p1` and `p2` to it because they are both `theano` variables. Stacking them like this combines them into one `theano` variable that we can use as the complementary pair of probabilities for our two categories.\n",
    "\n",
    "Throughout the course of this book we use several `theano` functions to help construct our models. If you have more interest in looking at `theano` itself, be sure to check out the [documentation](http://deeplearning.net/software/theano/library/).\n",
    "\n",
    "After these technical considerations, we can get back to defining our model!"
   ]
  },
  {
   "cell_type": "markdown",
   "metadata": {},
   "source": [
    "### Including observations in the Model"
   ]
  },
  {
   "cell_type": "markdown",
   "metadata": {},
   "source": [
    "At this point, it may not look like it, but we have fully specified our priors. For example, we can ask and answer questions like \"What does my prior distribution of $\\lambda_1$ look like?\" "
   ]
  },
  {
   "cell_type": "code",
   "execution_count": 17,
   "metadata": {},
   "outputs": [
    {
     "data": {
      "text/latex": [
       "$\\text{lambda_1} \\sim \\text{Exponential}(\\mathit{lam}=1.0)$"
      ],
      "text/plain": [
       "lambda_1"
      ]
     },
     "execution_count": 17,
     "metadata": {},
     "output_type": "execute_result"
    }
   ],
   "source": [
    "lambda_1"
   ]
  },
  {
   "cell_type": "code",
   "execution_count": 18,
   "metadata": {},
   "outputs": [
    {
     "data": {
      "text/plain": [
       "array([0.27364452, 1.41876762, 1.35571095])"
      ]
     },
     "execution_count": 18,
     "metadata": {},
     "output_type": "execute_result"
    }
   ],
   "source": [
    "lambda_1.random(size=3)"
   ]
  },
  {
   "cell_type": "code",
   "execution_count": 19,
   "metadata": {
    "collapsed": false,
    "jupyter": {
     "outputs_hidden": false
    }
   },
   "outputs": [
    {
     "data": {
      "image/png": "[encoded data removed]",
      "text/plain": [
       "<Figure size 900x288 with 1 Axes>"
      ]
     },
     "metadata": {
      "needs_background": "light"
     },
     "output_type": "display_data"
    }
   ],
   "source": [
    "%matplotlib inline\n",
    "from IPython.core.pylabtools import figsize\n",
    "import matplotlib.pyplot as plt\n",
    "import scipy.stats as stats\n",
    "figsize(12.5, 4)\n",
    "\n",
    "\n",
    "samples = lambda_1.random(size=20000)\n",
    "plt.hist(samples, bins=100, density=True, histtype=\"stepfilled\")\n",
    "plt.title(\"Prior distribution for $\\lambda_1$\")\n",
    "plt.xlim(0, 8);"
   ]
  },
  {
   "cell_type": "markdown",
   "metadata": {},
   "source": [
    "To frame this in the notation of the first chapter, though this is a slight abuse of notation, we have specified $P(A)$. Our next goal is to include data/evidence/observations $X$ into our model. \n",
    "\n",
    "PyMC3 stochastic variables have a keyword argument `observed`. The keyword `observed` has a very simple role: fix the variable's current value to be the given data, typically a NumPy `array` or pandas `DataFrame`. For example:"
   ]
  },
  {
   "cell_type": "code",
   "execution_count": 20,
   "metadata": {
    "collapsed": false,
    "jupyter": {
     "outputs_hidden": false
    }
   },
   "outputs": [
    {
     "name": "stdout",
     "output_type": "stream",
     "text": [
      "value:  [10  5]\n"
     ]
    }
   ],
   "source": [
    "data = np.array([10, 5])\n",
    "with model:\n",
    "    fixed_variable = pm.Poisson(\"fxd\", 1, observed=data)\n",
    "print(\"value: \", fixed_variable.tag.test_value)"
   ]
  },
  {
   "cell_type": "markdown",
   "metadata": {},
   "source": [
    "This is how we include data into our models: initializing a stochastic variable to have a *fixed value*. \n",
    "\n",
    "To complete our text message example, we fix the PyMC3 variable `observations` to the observed dataset. "
   ]
  },
  {
   "cell_type": "code",
   "execution_count": 21,
   "metadata": {
    "collapsed": false,
    "jupyter": {
     "outputs_hidden": false
    }
   },
   "outputs": [
    {
     "name": "stdout",
     "output_type": "stream",
     "text": [
      "[10 25 15 20 35]\n"
     ]
    }
   ],
   "source": [
    "# We're using some fake data here\n",
    "data = np.array([10, 25, 15, 20, 35])\n",
    "with model:\n",
    "    obs = pm.Poisson(\"obs\", lambda_, observed=data)\n",
    "print(obs.tag.test_value)"
   ]
  },
  {
   "cell_type": "markdown",
   "metadata": {},
   "source": [
    "## Modeling approaches"
   ]
  },
  {
   "cell_type": "markdown",
   "metadata": {},
   "source": [
    "A good starting thought to Bayesian modeling is to think about *how your data might have been generated*. Position yourself in an omniscient position, and try to imagine how *you* would recreate the dataset. \n",
    "\n",
    "In the last chapter we investigated text message data. We begin by asking how our observations may have been generated:\n",
    "\n",
    "1.  We started by thinking \"what is the best random variable to describe this count data?\" A Poisson random variable is a good candidate because it can represent count data. So we model the number of sms's received as sampled from a Poisson distribution.\n",
    "\n",
    "2.  Next, we think, \"Ok, assuming sms's are Poisson-distributed, what do I need for the Poisson distribution?\" Well, the Poisson distribution has a parameter $\\lambda$. \n",
    "\n",
    "3.  Do we know $\\lambda$? No. In fact, we have a suspicion that there are *two* $\\lambda$ values, one for the earlier behaviour and one for the later behaviour. We don't know when the behaviour switches though, but call the switchpoint $\\tau$.\n",
    "\n",
    "4. What is a good distribution for the two $\\lambda$s? The exponential is good, as it assigns probabilities to positive real numbers. Well the exponential distribution has a parameter too, call it $\\alpha$.\n",
    "\n",
    "5.  Do we know what the parameter $\\alpha$ might be? No. At this point, we could continue and assign a distribution to $\\alpha$, but it's better to stop once we reach a set level of ignorance: whereas we have a prior belief about $\\lambda$, (\"it probably changes over time\", \"it's likely between 10 and 30\", etc.), we don't really have any strong beliefs about $\\alpha$. So it's best to stop here. \n",
    "\n",
    "    What is a good value for $\\alpha$ then? We think that the $\\lambda$s are between 10-30, so if we set $\\alpha$ really low (which corresponds to larger probability on high values) we are not reflecting our prior well. Similar, a too-high alpha misses our prior belief as well. A good idea for $\\alpha$ as to reflect our belief is to set the value so that the mean of $\\lambda$, given $\\alpha$, is equal to our observed mean. This was shown in the last chapter.\n",
    "\n",
    "6. We have no expert opinion of when $\\tau$ might have occurred. So we will suppose $\\tau$ is from a discrete uniform distribution over the entire timespan.\n",
    "\n",
    "\n",
    "Below we give a graphical visualization of this, where arrows denote `parent-child` relationships. (provided by the [Daft Python library](http://daft-pgm.org/) )\n",
    "\n",
    "<img src=\"http://i.imgur.com/7J30oCG.png\" width = 700/>\n",
    "\n",
    "\n",
    "PyMC3, and other probabilistic programming languages, have been designed to tell these data-generation *stories*. More generally, B. Cronin writes [5]:\n",
    "\n",
    "> Probabilistic programming will unlock narrative explanations of data, one of the holy grails of business analytics and the unsung hero of scientific persuasion. People think in terms of stories - thus the unreasonable power of the anecdote to drive decision-making, well-founded or not. But existing analytics largely fails to provide this kind of story; instead, numbers seemingly appear out of thin air, with little of the causal context that humans prefer when weighing their options."
   ]
  },
  {
   "cell_type": "markdown",
   "metadata": {},
   "source": [
    "## Same story; different ending.\n"
   ]
  },
  {
   "cell_type": "markdown",
   "metadata": {},
   "source": [
    "Interestingly, we can create *new datasets* by retelling the story.\n",
    "For example, if we reverse the above steps, we can simulate a possible realization of the dataset.\n",
    "\n",
    "1\\. Specify when the user's behaviour switches by sampling from $\\text{DiscreteUniform}(0, 80)$:"
   ]
  },
  {
   "cell_type": "code",
   "execution_count": 22,
   "metadata": {
    "collapsed": false,
    "jupyter": {
     "outputs_hidden": false
    }
   },
   "outputs": [
    {
     "name": "stdout",
     "output_type": "stream",
     "text": [
      "48\n"
     ]
    }
   ],
   "source": [
    "tau = np.random.randint(0, 80)\n",
    "print(tau)"
   ]
  },
  {
   "cell_type": "markdown",
   "metadata": {},
   "source": [
    "2\\. Draw $\\lambda_1$ and $\\lambda_2$ from an $\\text{Exp}(\\alpha)$ distribution:"
   ]
  },
  {
   "cell_type": "code",
   "execution_count": 23,
   "metadata": {
    "collapsed": false,
    "jupyter": {
     "outputs_hidden": false
    }
   },
   "outputs": [
    {
     "name": "stdout",
     "output_type": "stream",
     "text": [
      "6.712608687252501 3.71984072279711\n"
     ]
    }
   ],
   "source": [
    "alpha = 1./20.\n",
    "lambda_1, lambda_2 = np.random.exponential(scale=1/alpha, size=2)\n",
    "print(lambda_1, lambda_2)"
   ]
  },
  {
   "cell_type": "markdown",
   "metadata": {},
   "source": [
    "3\\.  For days before $\\tau$, represent the user's received SMS count by sampling from $\\text{Poi}(\\lambda_1)$, and sample from  $\\text{Poi}(\\lambda_2)$ for days after $\\tau$. For example:"
   ]
  },
  {
   "cell_type": "code",
   "execution_count": 24,
   "metadata": {
    "collapsed": false,
    "jupyter": {
     "outputs_hidden": false
    }
   },
   "outputs": [],
   "source": [
    "data = np.r_[stats.poisson.rvs(mu=lambda_1, size=tau), stats.poisson.rvs(mu=lambda_2, size = 80 - tau)]"
   ]
  },
  {
   "cell_type": "markdown",
   "metadata": {},
   "source": [
    "4\\. Plot the artificial dataset:"
   ]
  },
  {
   "cell_type": "code",
   "execution_count": 25,
   "metadata": {
    "collapsed": false,
    "jupyter": {
     "outputs_hidden": false
    }
   },
   "outputs": [
    {
     "data": {
      "image/png": "[encoded data removed]",
      "text/plain": [
       "<Figure size 900x288 with 1 Axes>"
      ]
     },
     "metadata": {
      "needs_background": "light"
     },
     "output_type": "display_data"
    }
   ],
   "source": [
    "plt.bar(np.arange(80), data, color=\"#348ABD\")\n",
    "plt.bar(tau-1, data[tau - 1], color=\"r\", label=\"user behaviour changed\")\n",
    "plt.xlabel(\"Time (days)\")\n",
    "plt.ylabel(\"count of text-msgs received\")\n",
    "plt.title(\"Artificial dataset\")\n",
    "plt.xlim(0, 80)\n",
    "plt.legend();"
   ]
  },
  {
   "cell_type": "markdown",
   "metadata": {},
   "source": [
    "It is okay that our fictional dataset does not look like our observed dataset: the probability is incredibly small it indeed would. PyMC3's engine is designed to find good parameters, $\\lambda_i, \\tau$, that maximize this probability.  \n",
    "\n",
    "\n",
    "The ability to generate artificial dataset is an interesting side effect of our modeling, and we will see that this ability is a very important method of Bayesian inference. We produce a few more datasets below:"
   ]
  },
  {
   "cell_type": "code",
   "execution_count": 26,
   "metadata": {
    "collapsed": false,
    "jupyter": {
     "outputs_hidden": false
    }
   },
   "outputs": [
    {
     "data": {
      "image/png": "[encoded data removed]",
      "text/plain": [
       "<Figure size 900x360 with 4 Axes>"
      ]
     },
     "metadata": {
      "needs_background": "light"
     },
     "output_type": "display_data"
    }
   ],
   "source": [
    "def plot_artificial_sms_dataset():\n",
    "    tau = stats.randint.rvs(0, 80)\n",
    "    alpha = 1./20.\n",
    "    lambda_1, lambda_2 = stats.expon.rvs(scale=1/alpha, size=2)\n",
    "    data = np.r_[stats.poisson.rvs(mu=lambda_1, size=tau), stats.poisson.rvs(mu=lambda_2, size=80 - tau)]\n",
    "    plt.bar(np.arange(80), data, color=\"#348ABD\")\n",
    "    plt.bar(tau - 1, data[tau-1], color=\"r\", label=\"user behaviour changed\")\n",
    "    plt.xlim(0, 80);\n",
    "\n",
    "figsize(12.5, 5)\n",
    "plt.title(\"More example of artificial datasets\")\n",
    "for i in range(4):\n",
    "    plt.subplot(4, 1, i+1)\n",
    "    plot_artificial_sms_dataset()\n"
   ]
  },
  {
   "cell_type": "markdown",
   "metadata": {},
   "source": [
    "Later we will see how we use this to make predictions and test the appropriateness of our models."
   ]
  },
  {
   "cell_type": "markdown",
   "metadata": {},
   "source": [
    "## Bayesian A/B testing"
   ]
  },
  {
   "cell_type": "markdown",
   "metadata": {},
   "source": [
    "A/B testing is a statistical design pattern for determining the difference of effectiveness between two different treatments. For example, a pharmaceutical company is interested in the effectiveness of drug A vs drug B. The company will test drug A on some fraction of their trials, and drug B on the other fraction (this fraction is often 1/2, but we will relax this assumption). After performing enough trials, the in-house statisticians sift through the data to determine which drug yielded better results. \n",
    "\n",
    "Similarly, front-end web developers are interested in which design of their website yields more sales or some other metric of interest. They will route some fraction of visitors to site A, and the other fraction to site B, and record if the visit yielded a sale or not. The data is recorded (in real-time), and analyzed afterwards. \n",
    "\n",
    "Often, the post-experiment analysis is done using something called a hypothesis test like *difference of means test* or *difference of proportions test*. This involves often misunderstood quantities like a \"Z-score\" and even more confusing \"p-values\" (please don't ask). If you have taken a statistics course, you have probably been taught this technique (though not necessarily *learned* this technique). And if you were like me, you may have felt uncomfortable with their derivation -- good: the Bayesian approach to this problem is much more natural. "
   ]
  },
  {
   "cell_type": "markdown",
   "metadata": {},
   "source": [
    "### A Simple Case"
   ]
  },
  {
   "cell_type": "markdown",
   "metadata": {},
   "source": [
    "As this is a hacker book, we'll continue with the web-dev example. For the moment, we will focus on the analysis of site A only. Assume that there is some true $0 \\lt p_A \\lt 1$ probability that users who, upon shown site A, eventually purchase from the site. This is the true effectiveness of site A. Currently, this quantity is unknown to us. \n",
    "\n",
    "Suppose site A was shown to $N$ people, and $n$ people purchased from the site. One might conclude hastily that $p_A = \\frac{n}{N}$. Unfortunately, the *observed frequency* $\\frac{n}{N}$ does not necessarily equal $p_A$ -- there is a difference between the *observed frequency* and the *true frequency* of an event. The true frequency can be interpreted as the probability of an event occurring. For example, the true frequency of rolling a 1 on a 6-sided die is $\\frac{1}{6}$. Knowing the true frequency of events like:\n",
    "\n",
    "- fraction of users who make purchases, \n",
    "- frequency of social attributes, \n",
    "- percent of internet users with cats etc. \n",
    "\n",
    "are common requests we ask of Nature. Unfortunately, often Nature hides the true frequency from us and we must *infer* it from observed data.\n",
    "\n",
    "The *observed frequency* is then the frequency we observe: say rolling the die 100 times you may observe 20 rolls of 1. The observed frequency, 0.2, differs from the true frequency, $\\frac{1}{6}$. We can use Bayesian statistics to infer probable values of the true frequency using an appropriate prior and observed data.\n",
    "\n",
    "\n",
    "With respect to our A/B example, we are interested in using what we know, $N$ (the total trials administered) and $n$ (the number of conversions), to estimate what $p_A$, the true frequency of buyers, might be. \n",
    "\n",
    "To setup a Bayesian model, we need to assign prior distributions to our unknown quantities. *A priori*, what do we think $p_A$ might be? For this example, we have no strong conviction about $p_A$, so for now, let's assume $p_A$ is uniform over [0,1]:"
   ]
  },
  {
   "cell_type": "code",
   "execution_count": 27,
   "metadata": {
    "collapsed": false,
    "jupyter": {
     "outputs_hidden": false
    }
   },
   "outputs": [],
   "source": [
    "import pymc3 as pm\n",
    "\n",
    "# The parameters are the bounds of the Uniform.\n",
    "with pm.Model() as model:\n",
    "    p = pm.Uniform('p', lower=0, upper=1)"
   ]
  },
  {
   "cell_type": "markdown",
   "metadata": {},
   "source": [
    "Had we had stronger beliefs, we could have expressed them in the prior above.\n",
    "\n",
    "For this example, consider $p_A = 0.05$, and $N = 1500$ users shown site A, and we will simulate whether the user made a purchase or not. To simulate this from $N$ trials, we will use a *Bernoulli* distribution: if  $X\\ \\sim \\text{Ber}(p)$, then $X$ is 1 with probability $p$ and 0 with probability $1 - p$. Of course, in practice we do not know $p_A$, but we will use it here to simulate the data."
   ]
  },
  {
   "cell_type": "code",
   "execution_count": 28,
   "metadata": {
    "collapsed": false,
    "jupyter": {
     "outputs_hidden": false
    }
   },
   "outputs": [
    {
     "name": "stdout",
     "output_type": "stream",
     "text": [
      "[0 0 0 ... 0 0 0]\n",
      "68\n",
      "0.04533333333333334\n"
     ]
    }
   ],
   "source": [
    "#set constants\n",
    "p_true = 0.05  # remember, this is unknown.\n",
    "N = 1500\n",
    "\n",
    "# sample N Bernoulli random variables from Ber(0.05).\n",
    "# each random variable has a 0.05 chance of being a 1.\n",
    "# this is the data-generation step\n",
    "occurrences = stats.bernoulli.rvs(p_true, size=N)\n",
    "\n",
    "print(occurrences) # Remember: Python treats True == 1, and False == 0\n",
    "print(np.sum(occurrences))\n",
    "print(np.sum(occurrences) / N)"
   ]
  },
  {
   "cell_type": "markdown",
   "metadata": {},
   "source": [
    "The observed frequency is:"
   ]
  },
  {
   "cell_type": "code",
   "execution_count": 29,
   "metadata": {
    "collapsed": false,
    "jupyter": {
     "outputs_hidden": false
    }
   },
   "outputs": [
    {
     "name": "stdout",
     "output_type": "stream",
     "text": [
      "What is the observed frequency in Group A? 0.0453\n",
      "Does this equal the true frequency? False\n"
     ]
    }
   ],
   "source": [
    "# Occurrences.mean is equal to n/N.\n",
    "print(\"What is the observed frequency in Group A? %.4f\" % np.mean(occurrences))\n",
    "print(\"Does this equal the true frequency? %s\" % (np.mean(occurrences) == p_true))"
   ]
  },
  {
   "cell_type": "markdown",
   "metadata": {},
   "source": [
    "We combine the observations into the PyMC3 `observed` variable, and run our inference algorithm:"
   ]
  },
  {
   "cell_type": "code",
   "execution_count": 30,
   "metadata": {
    "collapsed": false,
    "jupyter": {
     "outputs_hidden": false
    }
   },
   "outputs": [
    {
     "name": "stderr",
     "output_type": "stream",
     "text": [
      "Multiprocess sampling (2 chains in 2 jobs)\n",
      "Metropolis: [p]\n"
     ]
    },
    {
     "data": {
      "text/html": [
       "\n",
       "    <div>\n",
       "        <style>\n",
       "            /* Turns off some styling */\n",
       "            progress {\n",
       "                /* gets rid of default border in Firefox and Opera. */\n",
       "                border: none;\n",
       "                /* Needs to be in here for Safari polyfill so background images work as expected. */\n",
       "                background-size: auto;\n",
       "            }\n",
       "            .progress-bar-interrupted, .progress-bar-interrupted::-webkit-progress-bar {\n",
       "                background: #F44336;\n",
       "            }\n",
       "        </style>\n",
       "      <progress value='38000' class='' max='38000' style='width:300px; height:20px; vertical-align: middle;'></progress>\n",
       "      100.00% [38000/38000 00:06<00:00 Sampling 2 chains, 0 divergences]\n",
       "    </div>\n",
       "    "
      ],
      "text/plain": [
       "<IPython.core.display.HTML object>"
      ]
     },
     "metadata": {},
     "output_type": "display_data"
    },
    {
     "name": "stderr",
     "output_type": "stream",
     "text": [
      "Sampling 2 chains for 1_000 tune and 18_000 draw iterations (2_000 + 36_000 draws total) took 7 seconds.\n",
      "The number of effective samples is smaller than 25% for some parameters.\n"
     ]
    }
   ],
   "source": [
    "#include the observations, which are Bernoulli\n",
    "with model:\n",
    "    obs = pm.Bernoulli(\"obs\", p, observed=occurrences)\n",
    "    # To be explained in chapter 3\n",
    "    step = pm.Metropolis()\n",
    "    trace = pm.sample(18000, step=step)\n",
    "    burned_trace = trace[1000:]"
   ]
  },
  {
   "cell_type": "markdown",
   "metadata": {},
   "source": [
    "We plot the posterior distribution of the unknown $p_A$ below:"
   ]
  },
  {
   "cell_type": "code",
   "execution_count": 31,
   "metadata": {
    "collapsed": false,
    "jupyter": {
     "outputs_hidden": false
    }
   },
   "outputs": [
    {
     "data": {
      "image/png": "[encoded data removed]",
      "text/plain": [
       "<Figure size 900x288 with 1 Axes>"
      ]
     },
     "metadata": {
      "needs_background": "light"
     },
     "output_type": "display_data"
    }
   ],
   "source": [
    "figsize(12.5, 4)\n",
    "plt.title(\"Posterior distribution of $p_A$, the true effectiveness of site A\")\n",
    "plt.vlines(p_true, 0, 90, linestyle=\"--\", label=\"true $p_A$ (unknown)\")\n",
    "plt.hist(burned_trace[\"p\"], bins=25, histtype=\"stepfilled\", density=True)\n",
    "plt.legend();"
   ]
  },
  {
   "cell_type": "markdown",
   "metadata": {},
   "source": [
    "Our posterior distribution puts most weight near the true value of $p_A$, but also some weights in the tails. This is a measure of how uncertain we should be, given our observations. Try changing the number of observations, `N`, and observe how the posterior distribution changes."
   ]
  },
  {
   "cell_type": "markdown",
   "metadata": {},
   "source": [
    "### *A* and *B* Together\n"
   ]
  },
  {
   "cell_type": "markdown",
   "metadata": {},
   "source": [
    "\n",
    "\n",
    "A similar analysis can be done for site B's response data to determine the analogous $p_B$. But what we are really interested in is the *difference* between $p_A$ and $p_B$. Let's infer $p_A$, $p_B$, *and* $\\text{delta} = p_A - p_B$, all at once. We can do this using PyMC3's deterministic variables. (We'll assume for this exercise that $p_B = 0.04$, so $\\text{delta} = 0.01$, $N_B = 750$ (significantly less than $N_A$) and we will simulate site B's data like we did for site A's data )"
   ]
  },
  {
   "cell_type": "code",
   "execution_count": 32,
   "metadata": {
    "collapsed": false,
    "jupyter": {
     "outputs_hidden": false
    }
   },
   "outputs": [
    {
     "name": "stdout",
     "output_type": "stream",
     "text": [
      "Obs from Site A:  [0 0 0 0 0 0 0 0 1 0 0 0 0 1 0 0 0 0 0 0 0 0 0 0 0 0 0 0 0 0] ...\n",
      "Obs from Site B:  [0 0 0 0 0 0 0 0 0 0 0 0 0 1 0 0 0 0 0 0 0 0 0 0 1 0 0 0 0 0] ...\n"
     ]
    }
   ],
   "source": [
    "import pymc3 as pm\n",
    "figsize(12, 4)\n",
    "\n",
    "#these two quantities are unknown to us.\n",
    "true_p_A = 0.05\n",
    "true_p_B = 0.04\n",
    "\n",
    "#notice the unequal sample sizes -- no problem in Bayesian analysis.\n",
    "N_A = 1500\n",
    "N_B = 750\n",
    "\n",
    "#generate some observations\n",
    "observations_A = stats.bernoulli.rvs(true_p_A, size=N_A)\n",
    "observations_B = stats.bernoulli.rvs(true_p_B, size=N_B)\n",
    "print(\"Obs from Site A: \", observations_A[:30], \"...\")\n",
    "print(\"Obs from Site B: \", observations_B[:30], \"...\")"
   ]
  },
  {
   "cell_type": "code",
   "execution_count": 33,
   "metadata": {
    "collapsed": false,
    "jupyter": {
     "outputs_hidden": false
    }
   },
   "outputs": [
    {
     "name": "stdout",
     "output_type": "stream",
     "text": [
      "0.048666666666666664\n",
      "0.032\n"
     ]
    }
   ],
   "source": [
    "print(np.mean(observations_A))\n",
    "print(np.mean(observations_B))"
   ]
  },
  {
   "cell_type": "code",
   "execution_count": 34,
   "metadata": {
    "collapsed": false,
    "jupyter": {
     "outputs_hidden": false
    }
   },
   "outputs": [
    {
     "name": "stderr",
     "output_type": "stream",
     "text": [
      "Multiprocess sampling (2 chains in 2 jobs)\n",
      "CompoundStep\n",
      ">Metropolis: [p_B]\n",
      ">Metropolis: [p_A]\n"
     ]
    },
    {
     "data": {
      "text/html": [
       "\n",
       "    <div>\n",
       "        <style>\n",
       "            /* Turns off some styling */\n",
       "            progress {\n",
       "                /* gets rid of default border in Firefox and Opera. */\n",
       "                border: none;\n",
       "                /* Needs to be in here for Safari polyfill so background images work as expected. */\n",
       "                background-size: auto;\n",
       "            }\n",
       "            .progress-bar-interrupted, .progress-bar-interrupted::-webkit-progress-bar {\n",
       "                background: #F44336;\n",
       "            }\n",
       "        </style>\n",
       "      <progress value='42000' class='' max='42000' style='width:300px; height:20px; vertical-align: middle;'></progress>\n",
       "      100.00% [42000/42000 00:12<00:00 Sampling 2 chains, 0 divergences]\n",
       "    </div>\n",
       "    "
      ],
      "text/plain": [
       "<IPython.core.display.HTML object>"
      ]
     },
     "metadata": {},
     "output_type": "display_data"
    },
    {
     "name": "stderr",
     "output_type": "stream",
     "text": [
      "Sampling 2 chains for 1_000 tune and 20_000 draw iterations (2_000 + 40_000 draws total) took 13 seconds.\n",
      "The number of effective samples is smaller than 25% for some parameters.\n"
     ]
    }
   ],
   "source": [
    "# Set up the pymc3 model. Again assume Uniform priors for p_A and p_B.\n",
    "with pm.Model() as model:\n",
    "    p_A = pm.Uniform(\"p_A\", 0, 1)\n",
    "    p_B = pm.Uniform(\"p_B\", 0, 1)\n",
    "    \n",
    "    # Define the deterministic delta function. This is our unknown of interest.\n",
    "    delta = pm.Deterministic(\"delta\", p_A - p_B)\n",
    "\n",
    "    # Set of observations, in this case we have two observation datasets.\n",
    "    obs_A = pm.Bernoulli(\"obs_A\", p_A, observed=observations_A)\n",
    "    obs_B = pm.Bernoulli(\"obs_B\", p_B, observed=observations_B)\n",
    "\n",
    "    # To be explained in chapter 3.\n",
    "    step = pm.Metropolis()\n",
    "    trace = pm.sample(20000, step=step)\n",
    "    burned_trace=trace[1000:]  # https://discourse.pymc.io/t/what-is-the-purpose-of-a-burned-trace/4133"
   ]
  },
  {
   "cell_type": "markdown",
   "metadata": {},
   "source": [
    "Below we plot the posterior distributions for the three unknowns: "
   ]
  },
  {
   "cell_type": "code",
   "execution_count": 35,
   "metadata": {
    "collapsed": false,
    "jupyter": {
     "outputs_hidden": false
    }
   },
   "outputs": [],
   "source": [
    "p_A_samples = burned_trace[\"p_A\"]\n",
    "p_B_samples = burned_trace[\"p_B\"]\n",
    "delta_samples = burned_trace[\"delta\"]"
   ]
  },
  {
   "cell_type": "code",
   "execution_count": 36,
   "metadata": {
    "collapsed": false,
    "jupyter": {
     "outputs_hidden": false
    }
   },
   "outputs": [
    {
     "data": {
      "image/png": "[encoded data removed]",
      "text/plain": [
       "<Figure size 900x720 with 3 Axes>"
      ]
     },
     "metadata": {
      "needs_background": "light"
     },
     "output_type": "display_data"
    }
   ],
   "source": [
    "figsize(12.5, 10)\n",
    "\n",
    "#histogram of posteriors\n",
    "\n",
    "ax = plt.subplot(311)\n",
    "\n",
    "plt.xlim(0, .1)\n",
    "plt.hist(p_A_samples, histtype='stepfilled', bins=25, alpha=0.85,\n",
    "         label=\"posterior of $p_A$\", color=\"#A60628\", density=True)\n",
    "plt.vlines(true_p_A, 0, 80, linestyle=\"--\", label=\"true $p_A$ (unknown)\")\n",
    "plt.legend(loc=\"upper right\")\n",
    "plt.title(\"Posterior distributions of $p_A$, $p_B$, and delta unknowns\")\n",
    "\n",
    "ax = plt.subplot(312)\n",
    "\n",
    "plt.xlim(0, .1)\n",
    "plt.hist(p_B_samples, histtype='stepfilled', bins=25, alpha=0.85,\n",
    "         label=\"posterior of $p_B$\", color=\"#467821\", density=True)\n",
    "plt.vlines(true_p_B, 0, 80, linestyle=\"--\", label=\"true $p_B$ (unknown)\")\n",
    "plt.legend(loc=\"upper right\")\n",
    "\n",
    "ax = plt.subplot(313)\n",
    "plt.hist(delta_samples, histtype='stepfilled', bins=30, alpha=0.85,\n",
    "         label=\"posterior of delta\", color=\"#7A68A6\", density=True)\n",
    "plt.vlines(true_p_A - true_p_B, 0, 60, linestyle=\"--\",\n",
    "           label=\"true delta (unknown)\")\n",
    "plt.vlines(0, 0, 60, color=\"black\", alpha=0.2)\n",
    "plt.legend(loc=\"upper right\");"
   ]
  },
  {
   "cell_type": "markdown",
   "metadata": {},
   "source": [
    "Notice that as a result of `N_B < N_A`, i.e. we have less data from site B, our posterior distribution of $p_B$ is fatter, implying we are less certain about the true value of $p_B$ than we are of $p_A$.  \n",
    "\n",
    "With respect to the posterior distribution of $\\text{delta}$, we can see that the majority of the distribution is above $\\text{delta}=0$, implying there site A's response is likely better than site B's response. The probability this inference is incorrect is easily computable:"
   ]
  },
  {
   "cell_type": "code",
   "execution_count": 37,
   "metadata": {},
   "outputs": [
    {
     "data": {
      "text/plain": [
       "array([0.0253591 , 0.0253591 , 0.02601399, ..., 0.02458254, 0.02458254,\n",
       "       0.01486301])"
      ]
     },
     "execution_count": 37,
     "metadata": {},
     "output_type": "execute_result"
    }
   ],
   "source": [
    "delta_samples"
   ]
  },
  {
   "cell_type": "code",
   "execution_count": 38,
   "metadata": {
    "collapsed": false,
    "jupyter": {
     "outputs_hidden": false
    }
   },
   "outputs": [
    {
     "name": "stdout",
     "output_type": "stream",
     "text": [
      "Probability site A is WORSE than site B: 0.038\n",
      "Probability site A is BETTER than site B: 0.962\n"
     ]
    }
   ],
   "source": [
    "# Count the number of samples less than 0, i.e. the area under the curve\n",
    "# before 0, represent the probability that site A is worse than site B.\n",
    "print(\"Probability site A is WORSE than site B: %.3f\" % \\\n",
    "    np.mean(delta_samples < 0))\n",
    "\n",
    "print(\"Probability site A is BETTER than site B: %.3f\" % \\\n",
    "    np.mean(delta_samples > 0))"
   ]
  },
  {
   "cell_type": "markdown",
   "metadata": {},
   "source": [
    "If this probability is too high for comfortable decision-making, we can perform more trials on site B (as site B has less samples to begin with, each additional data point for site B contributes more inferential \"power\" than each additional data point for site A). \n",
    "\n",
    "Try playing with the parameters `true_p_A`, `true_p_B`, `N_A`, and `N_B`, to see what the posterior of $\\text{delta}$ looks like. Notice in all this, the difference in sample sizes between site A and site B was never mentioned: it naturally fits into Bayesian analysis.\n",
    "\n",
    "I hope the readers feel this style of A/B testing is more natural than hypothesis testing, which has probably confused more than helped practitioners. Later in this book, we will see two extensions of this model: the first to help dynamically adjust for bad sites, and the second will improve the speed of this computation by reducing the analysis to a single equation.   "
   ]
  },
  {
   "cell_type": "code",
   "execution_count": 39,
   "metadata": {},
   "outputs": [],
   "source": [
    "# Kenny's note: \n",
    "# Changing N_A and N_B to 15,000 gets makes 100% of the delta >0!"
   ]
  },
  {
   "cell_type": "markdown",
   "metadata": {},
   "source": [
    "## An algorithm for human deceit"
   ]
  },
  {
   "cell_type": "markdown",
   "metadata": {},
   "source": [
    "Social data has an additional layer of interest as people are not always honest with responses, which adds a further complication into inference. For example, simply asking individuals \"Have you ever cheated on a test?\" will surely contain some rate of dishonesty. What you can say for certain is that the true rate is less than your observed rate (assuming individuals lie *only* about *not cheating*; I cannot imagine one who would admit \"Yes\" to cheating when in fact they hadn't cheated). \n",
    "\n",
    "To present an elegant solution to circumventing this dishonesty problem, and to demonstrate Bayesian modeling, we first need to introduce the binomial distribution."
   ]
  },
  {
   "cell_type": "markdown",
   "metadata": {},
   "source": [
    "### The Binomial Distribution"
   ]
  },
  {
   "cell_type": "markdown",
   "metadata": {},
   "source": [
    "The binomial distribution is one of the most popular distributions, mostly because of its simplicity and usefulness. Unlike the other distributions we have encountered thus far in the book, the binomial distribution has 2 parameters: $N$, a positive integer representing $N$ trials or number of instances of potential events, and $p$, the probability of an event occurring in a single trial. Like the Poisson distribution, it is a discrete distribution, but unlike the Poisson distribution, it only weighs integers from $0$ to $N$. The mass distribution looks like:\n",
    "\n",
    "$$P( X = k ) =  {{N}\\choose{k}}  p^k(1-p)^{N-k}$$\n",
    "\n",
    "If $X$ is a binomial random variable with parameters $p$ and $N$, denoted $X \\sim \\text{Bin}(N,p)$, then $X$ is the number of events that occurred in the $N$ trials (obviously $0 \\le X \\le N$). The larger $p$ is (while still remaining between 0 and 1), the more events are likely to occur. The expected value of a binomial is equal to $Np$. Below we plot the mass probability distribution for varying parameters. \n"
   ]
  },
  {
   "cell_type": "code",
   "execution_count": 100,
   "metadata": {
    "collapsed": false,
    "jupyter": {
     "outputs_hidden": false
    }
   },
   "outputs": [
    {
     "data": {
      "image/png": "[encoded data removed]",
      "text/plain": [
       "<Figure size 720x288 with 1 Axes>"
      ]
     },
     "metadata": {
      "needs_background": "light"
     },
     "output_type": "display_data"
    }
   ],
   "source": [
    "figsize(10, 4)\n",
    "\n",
    "import scipy.stats as stats\n",
    "binomial = stats.binom\n",
    "\n",
    "parameters = [(10, .4), (10, .9)]\n",
    "colors = [\"#348ABD\", \"#A60628\"]\n",
    "\n",
    "for i in range(2):\n",
    "    N, p = parameters[i]\n",
    "    _x = np.arange(N + 1)\n",
    "    plt.bar(_x - 0.5, binomial.pmf(_x, N, p), color=colors[i],\n",
    "            edgecolor=colors[i],\n",
    "            alpha=0.6,\n",
    "            label=\"$N$: %d, $p$: %.1f\" % (N, p),\n",
    "            linewidth=3)\n",
    "\n",
    "plt.legend(loc=\"upper left\")\n",
    "plt.xlim(0, 10.5)\n",
    "plt.xlabel(\"$k$\")\n",
    "plt.ylabel(\"$P(X = k)$\")\n",
    "plt.title(\"Probability mass distributions of binomial random variables\");"
   ]
  },
  {
   "cell_type": "markdown",
   "metadata": {},
   "source": [
    "The special case when $N = 1$ corresponds to the Bernoulli distribution. There is another connection between Bernoulli and Binomial random variables. If we have $X_1, X_2, ... , X_N$ Bernoulli random variables with the same $p$, then $Z = X_1 + X_2 + ... + X_N \\sim \\text{Binomial}(N, p )$.\n",
    "\n",
    "The expected value of a Bernoulli random variable is $p$. This can be seen by noting the more general Binomial random variable has expected value $Np$ and setting $N=1$.\n",
    "\n",
    "$$X_i \\sim \\text{Ber}(p) \\text{ for } i \\in [0, N]$$\n",
    "$$\\Rightarrow$$\n",
    "$$Z = X_1 + X_2 + ... + X_N \\sim \\text{Bin}(N, p)$$"
   ]
  },
  {
   "cell_type": "markdown",
   "metadata": {},
   "source": [
    "### Example: Cheating among students\n"
   ]
  },
  {
   "cell_type": "markdown",
   "metadata": {},
   "source": [
    "We will use the binomial distribution to determine the frequency of students cheating during an exam. If we let $N$ be the total number of students who took the exam, and assuming each student is interviewed post-exam (answering without consequence), we will receive integer $X$ \"Yes I did cheat\" answers. We then find the posterior distribution of $p$, given $N$, some specified prior on $p$, and observed data $X$. \n",
    "\n",
    "This is a completely absurd model. No student, even with a free-pass against punishment, would admit to cheating. What we need is a better *algorithm* to ask students if they had cheated. Ideally the algorithm should encourage individuals to be honest while preserving privacy. The following proposed algorithm is a solution I greatly admire for its ingenuity and effectiveness:\n",
    "\n",
    "> In the interview process for each student, the student flips a coin, hidden from the interviewer. The student agrees to answer honestly if the coin comes up heads. Otherwise, if the coin comes up tails, the student (secretly) flips the coin again, and answers \"Yes, I did cheat\" if the coin flip lands heads, and \"No, I did not cheat\", if the coin flip lands tails. This way, the interviewer does not know if a \"Yes\" was the result of a guilty plea, or a Heads on a second coin toss. Thus privacy is preserved and the researchers receive honest answers. \n",
    "\n",
    "I call this the Privacy Algorithm. One could of course argue that the interviewers are still receiving false data since some *Yes*'s are not confessions but instead randomness, but an alternative perspective is that the researchers are discarding approximately half of their original dataset since half of the responses will be noise. But they have gained a systematic data generation process that can be modeled. Furthermore, they do not have to incorporate (perhaps somewhat naively) the possibility of deceitful answers. We can use PyMC3 to dig through this noisy model, and find a posterior distribution for the true frequency of liars. "
   ]
  },
  {
   "cell_type": "markdown",
   "metadata": {},
   "source": [
    "Suppose 100 students are being surveyed for cheating, and we wish to find $p$, the proportion of cheaters. There are a few ways we can model this in PyMC3. I'll demonstrate the most explicit way, and later show a simplified version. Both versions arrive at the same inference. In our data-generation model, we sample $p$, the true proportion of cheaters, from a prior. Since we are quite ignorant about $p$, we will assign it a $\\text{Uniform}(0,1)$ prior."
   ]
  },
  {
   "cell_type": "code",
   "execution_count": 41,
   "metadata": {
    "collapsed": false,
    "jupyter": {
     "outputs_hidden": false
    }
   },
   "outputs": [],
   "source": [
    "import pymc3 as pm\n",
    "\n",
    "N = 100\n",
    "with pm.Model() as model:\n",
    "    p = pm.Uniform(\"freq_cheating\", 0, 1)"
   ]
  },
  {
   "cell_type": "markdown",
   "metadata": {},
   "source": [
    "Again, thinking of our data-generation model, we assign Bernoulli random variables to the 100 students: 1 implies they cheated and 0 implies they did not. "
   ]
  },
  {
   "cell_type": "code",
   "execution_count": 42,
   "metadata": {
    "collapsed": false,
    "jupyter": {
     "outputs_hidden": false
    }
   },
   "outputs": [
    {
     "name": "stdout",
     "output_type": "stream",
     "text": [
      "[1 0 1 0 0 0 0 0 0 1 0 0 0 1 0 0 0 1 1 0 0 1 0 1 0 1 0 0 1 0 1 0 0 0 0 1 0\n",
      " 1 1 1 1 1 1 0 1 0 0 0 0 0 1 0 1 0 1 1 0 1 1 1 1 0 0 1 0 1 0 0 1 0 1 1 0 1\n",
      " 1 0 1 1 0 0 0 1 1 1 0 0 1 0 0 0 1 0 1 0 0 1 1 0 1 1]\n"
     ]
    }
   ],
   "source": [
    "with model:\n",
    "    true_answers = pm.Bernoulli(\"truths\", p, shape=N, testval=np.random.binomial(1, 0.5, N))\n",
    "print(true_answers.tag.test_value)  "
   ]
  },
  {
   "cell_type": "markdown",
   "metadata": {},
   "source": [
    "If we carry out the algorithm, the next step that occurs is the first coin-flip each student makes. This can be modeled again by sampling 100 Bernoulli random variables with $p=1/2$: denote a 1 as a *Heads* and 0 a *Tails*."
   ]
  },
  {
   "cell_type": "code",
   "execution_count": 43,
   "metadata": {
    "collapsed": false,
    "jupyter": {
     "outputs_hidden": false
    }
   },
   "outputs": [
    {
     "name": "stdout",
     "output_type": "stream",
     "text": [
      "[0 1 0 0 1 0 1 1 1 1 1 1 0 1 1 1 0 0 0 0 0 1 1 0 0 1 1 1 1 0 1 1 1 1 0 1 0\n",
      " 0 0 1 1 1 1 1 1 1 1 0 1 1 1 1 0 1 1 1 0 0 0 1 1 1 0 0 0 0 0 1 0 0 1 0 1 1\n",
      " 0 1 1 0 0 0 0 1 1 1 1 1 0 1 1 0 1 1 0 1 1 0 0 0 0 1]\n"
     ]
    }
   ],
   "source": [
    "with model:\n",
    "    first_coin_flips = pm.Bernoulli(\"first_flips\", 0.5, shape=N, testval=np.random.binomial(1, 0.5, N))\n",
    "print(first_coin_flips.tag.test_value)"
   ]
  },
  {
   "cell_type": "markdown",
   "metadata": {},
   "source": [
    "Although *not everyone* flips a second time, we can still model the possible realization of second coin-flips:"
   ]
  },
  {
   "cell_type": "code",
   "execution_count": 44,
   "metadata": {
    "collapsed": false,
    "jupyter": {
     "outputs_hidden": false
    }
   },
   "outputs": [],
   "source": [
    "with model:\n",
    "    second_coin_flips = pm.Bernoulli(\"second_flips\", 0.5, shape=N, testval=np.random.binomial(1, 0.5, N))"
   ]
  },
  {
   "cell_type": "markdown",
   "metadata": {},
   "source": [
    "Using these variables, we can return a possible realization of the *observed proportion* of \"Yes\" responses. We do this using a PyMC3 `deterministic` variable:"
   ]
  },
  {
   "cell_type": "code",
   "execution_count": 45,
   "metadata": {
    "collapsed": false,
    "jupyter": {
     "outputs_hidden": false
    }
   },
   "outputs": [],
   "source": [
    "import theano.tensor as tt\n",
    "with model:\n",
    "    answers = first_coin_flips*true_answers + (1 - first_coin_flips)*second_coin_flips\n",
    "    observed_proportion = pm.Deterministic(\"observed_proportion\", tt.sum(answers)/float(N))"
   ]
  },
  {
   "cell_type": "markdown",
   "metadata": {},
   "source": [
    "The line `fc*t_a + (1-fc)*sc` contains the heart of the Privacy algorithm. Elements in this array are 1 *if and only if* i) the first toss is heads and the student cheated or ii) the first toss is tails, and the second is heads, and are 0 else. Finally, the last line sums this vector and divides by `float(N)`, produces a proportion. "
   ]
  },
  {
   "cell_type": "code",
   "execution_count": 46,
   "metadata": {
    "collapsed": false,
    "jupyter": {
     "outputs_hidden": false
    }
   },
   "outputs": [
    {
     "data": {
      "text/plain": [
       "array(0.47999999)"
      ]
     },
     "execution_count": 46,
     "metadata": {},
     "output_type": "execute_result"
    }
   ],
   "source": [
    "observed_proportion.tag.test_value"
   ]
  },
  {
   "cell_type": "markdown",
   "metadata": {},
   "source": [
    "Next we need a dataset. After performing our coin-flipped interviews the researchers received 35 \"Yes\" responses. To put this into a relative perspective, if there truly were no cheaters, we should expect to see on average 1/4 of all responses being a \"Yes\" (half chance of having first coin land Tails, and another half chance of having second coin land Heads), so about 25 responses in a cheat-free world. On the other hand, if *all students cheated*, we should expected to see approximately 3/4 of all responses be \"Yes\". \n",
    "\n",
    "The researchers observe a Binomial random variable, with `N = 100` and `p = observed_proportion` with `value = 35`:  "
   ]
  },
  {
   "cell_type": "code",
   "execution_count": 47,
   "metadata": {
    "collapsed": false,
    "jupyter": {
     "outputs_hidden": false
    }
   },
   "outputs": [],
   "source": [
    "X = 35\n",
    "\n",
    "with model:\n",
    "    observations = pm.Binomial(\"obs\", N, observed_proportion, observed=X)"
   ]
  },
  {
   "cell_type": "markdown",
   "metadata": {},
   "source": [
    "Below we add all the variables of interest to a `Model` container and run our black-box algorithm over the model. "
   ]
  },
  {
   "cell_type": "code",
   "execution_count": 48,
   "metadata": {
    "collapsed": false,
    "jupyter": {
     "outputs_hidden": false
    }
   },
   "outputs": [
    {
     "name": "stderr",
     "output_type": "stream",
     "text": [
      "Multiprocess sampling (2 chains in 2 jobs)\n",
      "CompoundStep\n",
      ">Metropolis: [freq_cheating]\n",
      ">BinaryGibbsMetropolis: [truths, first_flips, second_flips]\n"
     ]
    },
    {
     "data": {
      "text/html": [
       "\n",
       "    <div>\n",
       "        <style>\n",
       "            /* Turns off some styling */\n",
       "            progress {\n",
       "                /* gets rid of default border in Firefox and Opera. */\n",
       "                border: none;\n",
       "                /* Needs to be in here for Safari polyfill so background images work as expected. */\n",
       "                background-size: auto;\n",
       "            }\n",
       "            .progress-bar-interrupted, .progress-bar-interrupted::-webkit-progress-bar {\n",
       "                background: #F44336;\n",
       "            }\n",
       "        </style>\n",
       "      <progress value='82000' class='' max='82000' style='width:300px; height:20px; vertical-align: middle;'></progress>\n",
       "      100.00% [82000/82000 13:52<00:00 Sampling 2 chains, 0 divergences]\n",
       "    </div>\n",
       "    "
      ],
      "text/plain": [
       "<IPython.core.display.HTML object>"
      ]
     },
     "metadata": {},
     "output_type": "display_data"
    },
    {
     "name": "stderr",
     "output_type": "stream",
     "text": [
      "Sampling 2 chains for 1_000 tune and 40_000 draw iterations (2_000 + 80_000 draws total) took 833 seconds.\n",
      "The number of effective samples is smaller than 10% for some parameters.\n"
     ]
    }
   ],
   "source": [
    "# To be explained in Chapter 3!\n",
    "with model:\n",
    "    step = pm.Metropolis(vars=[p])\n",
    "    trace = pm.sample(40000, step=step)\n",
    "    burned_trace = trace[15000:]"
   ]
  },
  {
   "cell_type": "code",
   "execution_count": 49,
   "metadata": {
    "collapsed": false,
    "jupyter": {
     "outputs_hidden": false
    }
   },
   "outputs": [
    {
     "data": {
      "image/png": "[encoded data removed]",
      "text/plain": [
       "<Figure size 900x216 with 1 Axes>"
      ]
     },
     "metadata": {
      "needs_background": "light"
     },
     "output_type": "display_data"
    }
   ],
   "source": [
    "figsize(12.5, 3)\n",
    "p_trace = burned_trace[\"freq_cheating\"][15000:]\n",
    "plt.hist(p_trace, histtype=\"stepfilled\", density=True, alpha=0.85, bins=30, \n",
    "         label=\"posterior distribution\", color=\"#348ABD\")\n",
    "plt.vlines([.05, .35], [0, 0], [5, 5], alpha=0.3)\n",
    "plt.xlim(0, 1)\n",
    "plt.legend();"
   ]
  },
  {
   "cell_type": "code",
   "execution_count": 50,
   "metadata": {},
   "outputs": [
    {
     "data": {
      "image/png": "[encoded data removed]",
      "text/plain": [
       "<Figure size 900x216 with 1 Axes>"
      ]
     },
     "metadata": {
      "needs_background": "light"
     },
     "output_type": "display_data"
    }
   ],
   "source": [
    "# Kenny: We can also look at the observed p.\n",
    "# Note that it takes on higher values than the true p, since the observed p\n",
    "# (with the coin response) includes 25% more answered yes's than true yes's.\n",
    "#\n",
    "# Q: I'm not sure why it's not just a shifted version of the true p graph, though.\n",
    "# The shape looks quite different.\n",
    "# A: We can look at the mathematical relationship between these two distributions\n",
    "# in the next section. This is basically that relationship plus noise.\n",
    "\n",
    "figsize(12.5, 3)\n",
    "p_trace = burned_trace[\"observed_proportion\"][15000:]\n",
    "plt.hist(p_trace, histtype=\"stepfilled\", density=True, alpha=0.85, bins=30, \n",
    "         label=\"observed proportion\", color=\"#348ABD\")\n",
    "plt.xlim(0, 1)\n",
    "plt.legend();"
   ]
  },
  {
   "cell_type": "markdown",
   "metadata": {},
   "source": [
    "With regards to the above plot, we are still pretty uncertain about what the true frequency of cheaters might be, but we have narrowed it down to a range between 0.05 to 0.35 (marked by the solid lines). This is pretty good, as *a priori* we had no idea how many students might have cheated (hence the uniform distribution for our prior). On the other hand, it is also pretty bad since there is a .3 length window the true value most likely lives in. Have we even gained anything, or are we still too uncertain about the true frequency? \n",
    "\n",
    "I would argue, yes, we have discovered something. It is implausible, according to our posterior, that there are *no cheaters*, i.e. the posterior assigns low probability to $p=0$. Since we started with an uniform prior, treating all values of $p$ as equally plausible, but the data ruled out $p=0$ as a possibility, we can be confident that there were cheaters. \n",
    "\n",
    "This kind of algorithm can be used to gather private information from users and be *reasonably* confident that the data, though noisy, is truthful. \n",
    "\n"
   ]
  },
  {
   "cell_type": "markdown",
   "metadata": {},
   "source": [
    "### Alternative PyMC3 Model"
   ]
  },
  {
   "cell_type": "markdown",
   "metadata": {},
   "source": [
    "Given a value for $p$ (which from our god-like position we know), we can find the probability the student will answer yes: \n",
    "\n",
    "\\begin{align}\n",
    "P(\\text{\"Yes\"}) &=  P( \\text{Heads on first coin} )P( \\text{cheater} ) + P( \\text{Tails on first coin} )P( \\text{Heads on second coin} ) \\\\\\\\\n",
    "& = \\frac{1}{2}p + \\frac{1}{2}\\frac{1}{2}\\\\\\\\\n",
    "& = \\frac{p}{2} + \\frac{1}{4}\n",
    "\\end{align}\n",
    "\n",
    "Kenny: We can also compute the true probability in terms of the noised answers.\n",
    "\n",
    "\\begin{align}\n",
    "p = 2 (P(\\text{\"Yes\"}) - \\frac{1}{4})\n",
    "\\end{align}\n",
    "\n",
    "\n",
    "Thus, knowing $p$ we know the probability a student will respond \"Yes\". In PyMC3, we can create a deterministic function to evaluate the probability of responding \"Yes\", given $p$:"
   ]
  },
  {
   "cell_type": "code",
   "execution_count": 51,
   "metadata": {
    "collapsed": false,
    "jupyter": {
     "outputs_hidden": false
    }
   },
   "outputs": [],
   "source": [
    "with pm.Model() as model:\n",
    "    p = pm.Uniform(\"freq_cheating\", 0, 1)\n",
    "    p_skewed = pm.Deterministic(\"p_skewed\", 0.5*p + 0.25)\n",
    "    \n",
    "    # Kenny: p_skewed corresponds to observed_p above. It basically summarizes this chain:\n",
    "    #        p => true_answers => first_coin_flips => second_coin_flips => answers => observed_p\n",
    "    #        into this one:\n",
    "    #        p => p_skewed (=> yes_responses)\n",
    "    # \n",
    "    #        Also note that in the first method, we generated the answers first, and then compute the observed_p\n",
    "    #        In the second method, we compute the skewed_p first, and then generate the answers"
   ]
  },
  {
   "cell_type": "markdown",
   "metadata": {},
   "source": [
    "I could have typed `p_skewed  = 0.5*p + 0.25` instead for a one-liner, as the elementary operations of addition and scalar multiplication will implicitly create a `deterministic` variable, but I wanted to make the deterministic boilerplate explicit for clarity's sake. \n",
    "\n",
    "If we know the probability of respondents saying \"Yes\", which is `p_skewed`, and we have $N=100$ students, the number of \"Yes\" responses is a binomial random variable with parameters `N` and `p_skewed`.\n",
    "\n",
    "This is where we include our observed 35 \"Yes\" responses. In the declaration of the `pm.Binomial`, we include `value = 35` and `observed = True`."
   ]
  },
  {
   "cell_type": "code",
   "execution_count": 52,
   "metadata": {
    "collapsed": false,
    "jupyter": {
     "outputs_hidden": false
    }
   },
   "outputs": [],
   "source": [
    "with model:\n",
    "    yes_responses = pm.Binomial(\"yes_responses\", 100, p_skewed, observed=35)"
   ]
  },
  {
   "cell_type": "markdown",
   "metadata": {},
   "source": [
    "Below we add all the variables of interest to a `Model` container and run our black-box algorithm over the model. "
   ]
  },
  {
   "cell_type": "code",
   "execution_count": 53,
   "metadata": {
    "collapsed": false,
    "jupyter": {
     "outputs_hidden": false
    }
   },
   "outputs": [
    {
     "name": "stderr",
     "output_type": "stream",
     "text": [
      "Multiprocess sampling (2 chains in 2 jobs)\n",
      "Metropolis: [freq_cheating]\n"
     ]
    },
    {
     "data": {
      "text/html": [
       "\n",
       "    <div>\n",
       "        <style>\n",
       "            /* Turns off some styling */\n",
       "            progress {\n",
       "                /* gets rid of default border in Firefox and Opera. */\n",
       "                border: none;\n",
       "                /* Needs to be in here for Safari polyfill so background images work as expected. */\n",
       "                background-size: auto;\n",
       "            }\n",
       "            .progress-bar-interrupted, .progress-bar-interrupted::-webkit-progress-bar {\n",
       "                background: #F44336;\n",
       "            }\n",
       "        </style>\n",
       "      <progress value='25859' class='' max='52000' style='width:300px; height:20px; vertical-align: middle;'></progress>\n",
       "      49.73% [25859/52000 00:07<00:07 Sampling 2 chains, 0 divergences]\n",
       "    </div>\n",
       "    "
      ],
      "text/plain": [
       "<IPython.core.display.HTML object>"
      ]
     },
     "metadata": {},
     "output_type": "display_data"
    },
    {
     "name": "stderr",
     "output_type": "stream",
     "text": [
      "Sampling 1 chain for 1_000 tune and 25_000 draw iterations (1_000 + 25_000 draws total) took 12 seconds.\n",
      "Only one chain was sampled, this makes it impossible to run some convergence checks\n"
     ]
    }
   ],
   "source": [
    "with model:\n",
    "    # To Be Explained in Chapter 3!\n",
    "    step = pm.Metropolis()\n",
    "    trace = pm.sample(25000, step=step)\n",
    "    burned_trace = trace[2500:]"
   ]
  },
  {
   "cell_type": "code",
   "execution_count": 54,
   "metadata": {
    "collapsed": false,
    "jupyter": {
     "outputs_hidden": false
    }
   },
   "outputs": [
    {
     "data": {
      "image/png": "[encoded data removed]",
      "text/plain": [
       "<Figure size 900x216 with 1 Axes>"
      ]
     },
     "metadata": {
      "needs_background": "light"
     },
     "output_type": "display_data"
    }
   ],
   "source": [
    "figsize(12.5, 3)\n",
    "p_trace = burned_trace[\"freq_cheating\"]\n",
    "plt.hist(p_trace, histtype=\"stepfilled\", density=True, alpha=0.85, bins=30, \n",
    "         label=\"posterior distribution\", color=\"#348ABD\")\n",
    "plt.vlines([.05, .35], [0, 0], [5, 5], alpha=0.2)\n",
    "plt.xlim(0, 1)\n",
    "plt.legend();"
   ]
  },
  {
   "cell_type": "code",
   "execution_count": 55,
   "metadata": {},
   "outputs": [
    {
     "data": {
      "image/png": "[encoded data removed]",
      "text/plain": [
       "<Figure size 900x216 with 1 Axes>"
      ]
     },
     "metadata": {
      "needs_background": "light"
     },
     "output_type": "display_data"
    }
   ],
   "source": [
    "# Kenny: Again, we can take a look at the skewed_p\n",
    "# Here, the relationship between the two distributions is much more clean, because it's\n",
    "# literally just a mathematical rescaling of the previous graph.\n",
    "# In the previous section, we generated answers first, then computed observed_p. It's sort\n",
    "# of like sampling observed_p from the clean skewed_p distribution below. That's why it\n",
    "# looked noisy.\n",
    "\n",
    "figsize(12.5, 3)\n",
    "p_trace = burned_trace[\"p_skewed\"]\n",
    "plt.hist(p_trace, histtype=\"stepfilled\", density=True, alpha=0.85, bins=30, \n",
    "         label=\"p_skewed (observed_p)\", color=\"#348ABD\")\n",
    "plt.xlim(0, 1)\n",
    "plt.legend();"
   ]
  },
  {
   "cell_type": "markdown",
   "metadata": {},
   "source": [
    "The remainder of this chapter examines some practical examples of PyMC3 and PyMC3 modeling:"
   ]
  },
  {
   "cell_type": "markdown",
   "metadata": {},
   "source": [
    "## Example: Challenger Space Shuttle Disaster <span id=\"challenger\"/>\n"
   ]
  },
  {
   "cell_type": "markdown",
   "metadata": {},
   "source": [
    "On January 28, 1986, the twenty-fifth flight of the U.S. space shuttle program ended in disaster when one of the rocket boosters of the Shuttle Challenger exploded shortly after lift-off, killing all seven crew members. The presidential commission on the accident concluded that it was caused by the failure of an O-ring in a field joint on the rocket booster, and that this failure was due to a faulty design that made the O-ring unacceptably sensitive to a number of factors including outside temperature. Of the previous 24 flights, data were available on failures of O-rings on 23, (one was lost at sea), and these data were discussed on the evening preceding the Challenger launch, but unfortunately only the data corresponding to the 7 flights on which there was a damage incident were considered important and these were thought to show no obvious trend. The data are shown below (see [1]):"
   ]
  },
  {
   "cell_type": "code",
   "execution_count": 56,
   "metadata": {
    "collapsed": false,
    "jupyter": {
     "outputs_hidden": false
    }
   },
   "outputs": [
    {
     "data": {
      "image/png": "[encoded data removed]",
      "text/plain": [
       "<Figure size 900x252 with 1 Axes>"
      ]
     },
     "metadata": {
      "needs_background": "light"
     },
     "output_type": "display_data"
    }
   ],
   "source": [
    "figsize(12.5, 3.5)\n",
    "np.set_printoptions(precision=3, suppress=True)\n",
    "challenger_data = np.genfromtxt(\"data/challenger_data.csv\", skip_header=1,\n",
    "                                usecols=[1, 2], missing_values=\"NA\",\n",
    "                                delimiter=\",\")\n",
    "#drop the NA values\n",
    "challenger_data = challenger_data[~np.isnan(challenger_data[:, 1])]\n",
    "\n",
    "#plot it, as a function of tempature (the first column)\n",
    "# print(\"Temp (F), O-Ring failure?\")\n",
    "# print(challenger_data)\n",
    "\n",
    "plt.scatter(challenger_data[:, 0], challenger_data[:, 1], s=75, color=\"k\",\n",
    "            alpha=0.5)\n",
    "plt.yticks([0, 1])\n",
    "plt.ylabel(\"Damage Incident?\")\n",
    "plt.xlabel(\"Outside temperature (Fahrenheit)\")\n",
    "plt.title(\"Defects of the Space Shuttle O-Rings vs temperature\");\n"
   ]
  },
  {
   "cell_type": "markdown",
   "metadata": {},
   "source": [
    "It looks clear that *the probability* of damage incidents occurring increases as the outside temperature decreases. We are interested in modeling the probability here because it does not look like there is a strict cutoff point between temperature and a damage incident occurring. The best we can do is ask \"At temperature $t$, what is the probability of a damage incident?\". The goal of this example is to answer that question.\n",
    "\n",
    "We need a function of temperature, call it $p(t)$, that is bounded between 0 and 1 (so as to model a probability) and changes from 1 to 0 as we increase temperature. There are actually many such functions, but the most popular choice is the *logistic function.*\n",
    "\n",
    "$$p(t) = \\frac{1}{ 1 + e^{ \\;\\beta t } } $$\n",
    "\n",
    "In this model, $\\beta$ is the variable we are uncertain about. Below is the function plotted for $\\beta = 1, 3, -5$."
   ]
  },
  {
   "cell_type": "code",
   "execution_count": 57,
   "metadata": {
    "collapsed": false,
    "jupyter": {
     "outputs_hidden": false
    }
   },
   "outputs": [
    {
     "data": {
      "image/png": "[encoded data removed]",
      "text/plain": [
       "<Figure size 864x216 with 1 Axes>"
      ]
     },
     "metadata": {
      "needs_background": "light"
     },
     "output_type": "display_data"
    }
   ],
   "source": [
    "figsize(12, 3)\n",
    "\n",
    "def logistic(x, beta):\n",
    "    return 1.0 / (1.0 + np.exp(beta * x))\n",
    "\n",
    "x = np.linspace(-4, 4, 100)\n",
    "plt.plot(x, logistic(x, 1), label=r\"$\\beta = 1$\")\n",
    "plt.plot(x, logistic(x, 3), label=r\"$\\beta = 3$\")\n",
    "plt.plot(x, logistic(x, -5), label=r\"$\\beta = -5$\")\n",
    "plt.legend();"
   ]
  },
  {
   "cell_type": "markdown",
   "metadata": {},
   "source": [
    "But something is missing. In the plot of the logistic function, the probability changes only near zero, but in our data above the probability changes around 65 to 70. We need to add a *bias* term to our logistic function:\n",
    "\n",
    "$$p(t) = \\frac{1}{ 1 + e^{ \\;\\beta t + \\alpha } } $$\n",
    "\n",
    "Some plots are below, with differing $\\alpha$."
   ]
  },
  {
   "cell_type": "code",
   "execution_count": 58,
   "metadata": {
    "collapsed": false,
    "jupyter": {
     "outputs_hidden": false
    }
   },
   "outputs": [
    {
     "data": {
      "image/png": "[encoded data removed]",
      "text/plain": [
       "<Figure size 864x216 with 1 Axes>"
      ]
     },
     "metadata": {
      "needs_background": "light"
     },
     "output_type": "display_data"
    }
   ],
   "source": [
    "def logistic(x, beta, alpha=0):\n",
    "    return 1.0 / (1.0 + np.exp(np.dot(beta, x) + alpha))\n",
    "\n",
    "x = np.linspace(-4, 4, 100)\n",
    "\n",
    "plt.plot(x, logistic(x, 1), label=r\"$\\beta = 1$\", ls=\"--\", lw=1)\n",
    "plt.plot(x, logistic(x, 3), label=r\"$\\beta = 3$\", ls=\"--\", lw=1)\n",
    "plt.plot(x, logistic(x, -5), label=r\"$\\beta = -5$\", ls=\"--\", lw=1)\n",
    "\n",
    "plt.plot(x, logistic(x, 1, 1), label=r\"$\\beta = 1, \\alpha = 1$\",\n",
    "         color=\"#348ABD\")\n",
    "plt.plot(x, logistic(x, 3, -2), label=r\"$\\beta = 3, \\alpha = -2$\",\n",
    "         color=\"#A60628\")\n",
    "plt.plot(x, logistic(x, -5, 7), label=r\"$\\beta = -5, \\alpha = 7$\",\n",
    "         color=\"#7A68A6\")\n",
    "\n",
    "plt.legend(loc=\"lower left\");"
   ]
  },
  {
   "cell_type": "markdown",
   "metadata": {},
   "source": [
    "Adding a constant term $\\alpha$ amounts to shifting the curve left or right (hence why it is called a *bias*).\n",
    "\n",
    "Let's start modeling this in PyMC3. The $\\beta, \\alpha$ parameters have no reason to be positive, bounded or relatively large, so they are best modeled by a *Normal random variable*, introduced next."
   ]
  },
  {
   "cell_type": "markdown",
   "metadata": {},
   "source": [
    "### Normal distributions\n"
   ]
  },
  {
   "cell_type": "markdown",
   "metadata": {},
   "source": [
    "A Normal random variable, denoted $X \\sim N(\\mu, 1/\\tau)$, has a distribution with two parameters: the mean, $\\mu$, and the *precision*, $\\tau$. Those familiar with the Normal distribution already have probably seen $\\sigma^2$ instead of $\\tau^{-1}$. They are in fact reciprocals of each other. The change was motivated by simpler mathematical analysis and is an artifact of older Bayesian methods. Just remember: the smaller $\\tau$, the larger the spread of the distribution (i.e. we are more uncertain); the larger $\\tau$, the tighter the distribution (i.e. we are more certain). Regardless, $\\tau$ is always positive. \n",
    "\n",
    "Kenny: Answer about [Variance vs. Precision](https://stats.stackexchange.com/questions/211419/whats-in-a-name-precision-inverse-of-variance).\n",
    "\n",
    "The probability density function of a $N( \\mu, 1/\\tau)$ random variable is:\n",
    "\n",
    "$$ f(x | \\mu, \\tau) = \\sqrt{\\frac{\\tau}{2\\pi}} \\exp\\left( -\\frac{\\tau}{2} (x-\\mu)^2 \\right) $$\n",
    "\n",
    "We plot some different density functions below. "
   ]
  },
  {
   "cell_type": "code",
   "execution_count": 104,
   "metadata": {
    "collapsed": false,
    "jupyter": {
     "outputs_hidden": false
    }
   },
   "outputs": [
    {
     "data": {
      "image/png": "[encoded data removed]",
      "text/plain": [
       "<Figure size 720x288 with 1 Axes>"
      ]
     },
     "metadata": {
      "needs_background": "light"
     },
     "output_type": "display_data"
    }
   ],
   "source": [
    "figsize(10, 4)\n",
    "\n",
    "\n",
    "import scipy.stats as stats\n",
    "\n",
    "nor = stats.norm\n",
    "x = np.linspace(-8, 7, 150)\n",
    "mu = (-2, 0, 3)\n",
    "tau = (.7, 1, 2.8)\n",
    "colors = [\"#348ABD\", \"#A60628\", \"#7A68A6\"]\n",
    "parameters = zip(mu, tau, colors)\n",
    "\n",
    "for _mu, _tau, _color in parameters:\n",
    "    plt.plot(x, nor.pdf(x, _mu, scale=1./_tau),\n",
    "             label=\"$\\mu = %d,\\;\\\\sigma^2 = %.1f$\" % (_mu, _tau**-1), color=_color)\n",
    "    plt.fill_between(x, nor.pdf(x, _mu, scale=1./_tau), color=_color,\n",
    "                     alpha=.33)\n",
    "\n",
    "plt.legend(loc=\"upper right\")\n",
    "plt.xlabel(\"$x$\")\n",
    "plt.ylabel(\"density function at $x$\")\n",
    "plt.title(\"Probability distribution of three different Normal random \\\n",
    "variables\");"
   ]
  },
  {
   "cell_type": "markdown",
   "metadata": {},
   "source": [
    "A Normal random variable can be take on any real number, but the variable is very likely to be relatively close to $\\mu$. In fact, the expected value of a Normal is equal to its $\\mu$ parameter:\n",
    "\n",
    "$$ E[ X | \\mu, \\tau] = \\mu$$\n",
    "\n",
    "and its variance is equal to the inverse of $\\tau$:\n",
    "\n",
    "$$Var( X | \\mu, \\tau ) = \\frac{1}{\\tau}$$\n",
    "\n",
    "\n",
    "\n",
    "Below we continue our modeling of the Challenger space craft:"
   ]
  },
  {
   "cell_type": "code",
   "execution_count": 60,
   "metadata": {
    "collapsed": false,
    "jupyter": {
     "outputs_hidden": false
    }
   },
   "outputs": [],
   "source": [
    "import pymc3 as pm\n",
    "\n",
    "temperature = challenger_data[:, 0]\n",
    "D = challenger_data[:, 1]  # defect or not?\n",
    "\n",
    "#notice the`value` here. We explain why below.\n",
    "with pm.Model() as model:\n",
    "    beta = pm.Normal(\"beta\", mu=0, tau=0.001, testval=0)\n",
    "    alpha = pm.Normal(\"alpha\", mu=0, tau=0.001, testval=0)\n",
    "    p = pm.Deterministic(\"p\", 1.0/(1. + tt.exp(beta*temperature + alpha)))  # Maps temperature -> probability of defect"
   ]
  },
  {
   "cell_type": "code",
   "execution_count": 71,
   "metadata": {},
   "outputs": [
    {
     "data": {
      "image/png": "[encoded data removed]",
      "text/plain": [
       "<Figure size 864x216 with 1 Axes>"
      ]
     },
     "metadata": {
      "needs_background": "light"
     },
     "output_type": "display_data"
    }
   ],
   "source": [
    "# Kenny: Btw, here's what our prior of beta and alpha look like. It's extremely wide. \n",
    "\n",
    "x = np.linspace(-5000, 5000, 1000)\n",
    "mu = 0\n",
    "tau = 0.001\n",
    "\n",
    "plt.plot(x, nor.pdf(x, mu, scale=1./tau),\n",
    "         label=\"$\\mu = %d,\\;\\\\tau = %.1f$\" % (mu, tau))\n",
    "plt.fill_between(x, nor.pdf(x, mu, scale=1./tau), alpha=.33)\n",
    "\n",
    "plt.xlabel(\"beta or alpha\")\n",
    "plt.ylabel(\"density function at beta or alpha\")\n",
    "plt.title(\"N(0, 0.001)\");"
   ]
  },
  {
   "cell_type": "markdown",
   "metadata": {},
   "source": [
    "We have our probabilities, but how do we connect them to our observed data? A *Bernoulli* random variable with parameter $p$, denoted $\\text{Ber}(p)$, is a random variable that takes value 1 with probability $p$, and 0 else. Thus, our model can look like:\n",
    "\n",
    "$$ \\text{Defect Incident, $D_i$} \\sim \\text{Ber}( \\;p(t_i)\\; ), \\;\\; i=1..N$$\n",
    "\n",
    "where $p(t)$ is our logistic function and $t_i$ are the temperatures we have observations about. Notice in the above code we had to set the values of `beta` and `alpha` to 0. The reason for this is that if `beta` and `alpha` are very large, they make `p` equal to 1 or 0. Unfortunately, `pm.Bernoulli` does not like probabilities of exactly 0 or 1, though they are mathematically well-defined probabilities. So by setting the coefficient values to `0`, we set the variable `p` to be a reasonable starting value. This has no effect on our results, nor does it mean we are including any additional information in our prior. It is simply a computational caveat in PyMC3. \n",
    "\n",
    "Kenny: Why not just use a narrower prior then?"
   ]
  },
  {
   "cell_type": "code",
   "execution_count": 72,
   "metadata": {
    "collapsed": false,
    "jupyter": {
     "outputs_hidden": false
    }
   },
   "outputs": [
    {
     "data": {
      "text/html": [
       "\n",
       "    <div>\n",
       "        <style>\n",
       "            /* Turns off some styling */\n",
       "            progress {\n",
       "                /* gets rid of default border in Firefox and Opera. */\n",
       "                border: none;\n",
       "                /* Needs to be in here for Safari polyfill so background images work as expected. */\n",
       "                background-size: auto;\n",
       "            }\n",
       "            .progress-bar-interrupted, .progress-bar-interrupted::-webkit-progress-bar {\n",
       "                background: #F44336;\n",
       "            }\n",
       "        </style>\n",
       "      <progress value='26' class='' max='26' style='width:300px; height:20px; vertical-align: middle;'></progress>\n",
       "      100.00% [26/26 00:00<00:00 logp = -19.024, ||grad|| = 9.9071]\n",
       "    </div>\n",
       "    "
      ],
      "text/plain": [
       "<IPython.core.display.HTML object>"
      ]
     },
     "metadata": {},
     "output_type": "display_data"
    },
    {
     "name": "stdout",
     "output_type": "stream",
     "text": [
      "\n"
     ]
    },
    {
     "name": "stderr",
     "output_type": "stream",
     "text": [
      "Multiprocess sampling (2 chains in 2 jobs)\n",
      "CompoundStep\n",
      ">Metropolis: [alpha]\n",
      ">Metropolis: [beta]\n"
     ]
    },
    {
     "data": {
      "text/html": [
       "\n",
       "    <div>\n",
       "        <style>\n",
       "            /* Turns off some styling */\n",
       "            progress {\n",
       "                /* gets rid of default border in Firefox and Opera. */\n",
       "                border: none;\n",
       "                /* Needs to be in here for Safari polyfill so background images work as expected. */\n",
       "                background-size: auto;\n",
       "            }\n",
       "            .progress-bar-interrupted, .progress-bar-interrupted::-webkit-progress-bar {\n",
       "                background: #F44336;\n",
       "            }\n",
       "        </style>\n",
       "      <progress value='242000' class='' max='242000' style='width:300px; height:20px; vertical-align: middle;'></progress>\n",
       "      100.00% [242000/242000 01:20<00:00 Sampling 2 chains, 0 divergences]\n",
       "    </div>\n",
       "    "
      ],
      "text/plain": [
       "<IPython.core.display.HTML object>"
      ]
     },
     "metadata": {},
     "output_type": "display_data"
    },
    {
     "name": "stderr",
     "output_type": "stream",
     "text": [
      "Sampling 2 chains for 1_000 tune and 120_000 draw iterations (2_000 + 240_000 draws total) took 81 seconds.\n",
      "The estimated number of effective samples is smaller than 200 for some parameters.\n"
     ]
    }
   ],
   "source": [
    "# connect the probabilities in `p` with our observations through a\n",
    "# Bernoulli random variable.\n",
    "with model:\n",
    "    observed = pm.Bernoulli(\"bernoulli_obs\", p, observed=D)\n",
    "    \n",
    "    # Mysterious code to be explained in Chapter 3\n",
    "    start = pm.find_MAP()\n",
    "    step = pm.Metropolis()\n",
    "    trace = pm.sample(120000, step=step, start=start)\n",
    "    burned_trace = trace[100000::2]"
   ]
  },
  {
   "cell_type": "markdown",
   "metadata": {},
   "source": [
    "We have trained our model on the observed data, now we can sample values from the posterior. Let's look at the posterior distributions for $\\alpha$ and $\\beta$:"
   ]
  },
  {
   "cell_type": "code",
   "execution_count": 90,
   "metadata": {},
   "outputs": [],
   "source": [
    "# Kenny: alpha and beta have random traces. The trace for p is deterministic on alpha and beta.\n",
    "\n",
    "# from math import exp\n",
    "\n",
    "# burned_trace['alpha'][0], burned_trace['beta'][0], burned_trace['p'][0]\n",
    "# 1 / (1+ exp(0.28934711266976654*temperature[0] + -19.536031321407144))"
   ]
  },
  {
   "cell_type": "code",
   "execution_count": 91,
   "metadata": {
    "collapsed": false,
    "jupyter": {
     "outputs_hidden": false
    }
   },
   "outputs": [
    {
     "data": {
      "image/png": "[encoded data removed]",
      "text/plain": [
       "<Figure size 900x432 with 2 Axes>"
      ]
     },
     "metadata": {
      "needs_background": "light"
     },
     "output_type": "display_data"
    }
   ],
   "source": [
    "alpha_samples = burned_trace[\"alpha\"][:, None]  # best to make them 1d\n",
    "beta_samples = burned_trace[\"beta\"][:, None]\n",
    "\n",
    "figsize(12.5, 6)\n",
    "\n",
    "#histogram of the samples:\n",
    "plt.subplot(211)\n",
    "plt.title(r\"Posterior distributions of the variables $\\alpha, \\beta$\")\n",
    "plt.hist(beta_samples, histtype='stepfilled', bins=35, alpha=0.85,\n",
    "         label=r\"posterior of $\\beta$\", color=\"#7A68A6\", density=True)\n",
    "plt.legend()\n",
    "\n",
    "plt.subplot(212)\n",
    "plt.hist(alpha_samples, histtype='stepfilled', bins=35, alpha=0.85,\n",
    "         label=r\"posterior of $\\alpha$\", color=\"#A60628\", density=True)\n",
    "plt.legend();"
   ]
  },
  {
   "cell_type": "markdown",
   "metadata": {},
   "source": [
    "All samples of $\\beta$ are greater than 0. If instead the posterior was centered around 0, we may suspect that $\\beta = 0$, implying that temperature has no effect on the probability of defect. (Kenny: This means the sigmoid goes from 1 to 0 (left to right.)\n",
    "\n",
    "Similarly, all $\\alpha$ posterior values are negative and far away from 0, implying that it is correct to believe that $\\alpha$ is significantly less than 0. (Kenny: This means the sigmoid is shifted to the right.)\n",
    "\n",
    "Regarding the spread of the data, we are very uncertain about what the true parameters might be (though considering the low sample size and the large overlap of defects-to-nondefects this behaviour is perhaps expected).  \n",
    "\n",
    "Next, let's look at the *expected probability* for a specific value of the temperature. That is, we average over all samples from the posterior to get a likely value for $p(t_i)$."
   ]
  },
  {
   "cell_type": "code",
   "execution_count": 92,
   "metadata": {
    "collapsed": false,
    "jupyter": {
     "outputs_hidden": false
    }
   },
   "outputs": [],
   "source": [
    "t = np.linspace(temperature.min() - 5, temperature.max()+5, 50)[:, None]\n",
    "p_t = logistic(t.T, beta_samples, alpha_samples)\n",
    "\n",
    "mean_prob_t = p_t.mean(axis=0)\n",
    "\n",
    "# alpha_samples, beta_samples are shape (10000, 1), i.e. 10000 combinations of alpha & beta that fit our data\n",
    "# t.T is shape (1, 50), i.e. the temperature range as a row vector\n",
    "# p_t is shape (10000, 50), i.e. applying logistic() to t.T 10000 times with different alphas & betas\n",
    "# Recall that p_t represents the probability of a defect at a temperature\n",
    "# mean_prob_t is shape (50), i.e. summed over all sampled logistic parameters to get the mean probability of defect at a temperature"
   ]
  },
  {
   "cell_type": "code",
   "execution_count": 93,
   "metadata": {},
   "outputs": [],
   "source": [
    "# Temperatures vs expected probability of defect\n",
    "# np.hstack((t, mean_prob_t[:, None]))"
   ]
  },
  {
   "cell_type": "code",
   "execution_count": 94,
   "metadata": {
    "collapsed": false,
    "jupyter": {
     "outputs_hidden": false
    }
   },
   "outputs": [
    {
     "data": {
      "image/png": "[encoded data removed]",
      "text/plain": [
       "<Figure size 900x288 with 1 Axes>"
      ]
     },
     "metadata": {
      "needs_background": "light"
     },
     "output_type": "display_data"
    }
   ],
   "source": [
    "figsize(12.5, 4)\n",
    "\n",
    "plt.plot(t, mean_prob_t, lw=3, label=\"average posterior \\nprobability \\\n",
    "of defect\")\n",
    "\n",
    "plt.plot(t, p_t[0, :], ls=\"--\", label=\"realization from posterior\")\n",
    "plt.plot(t, p_t[1, :], ls=\"--\", label=\"realization from posterior\")\n",
    "plt.plot(t, p_t[2, :], ls=\"--\", label=\"realization from posterior\")\n",
    "plt.plot(t, p_t[4, :], ls=\"--\", label=\"realization from posterior\")\n",
    "plt.plot(t, p_t[-1, :], ls=\"--\", label=\"realization from posterior\")\n",
    "\n",
    "plt.scatter(temperature, D, color=\"k\", s=50, alpha=0.5)\n",
    "plt.title(\"Posterior expected value of probability of defect; \\\n",
    "plus realizations\")\n",
    "plt.legend(loc=\"lower left\")\n",
    "plt.ylim(-0.1, 1.1)\n",
    "plt.xlim(t.min(), t.max())\n",
    "plt.ylabel(\"probability\")\n",
    "plt.xlabel(\"temperature\");"
   ]
  },
  {
   "cell_type": "markdown",
   "metadata": {},
   "source": [
    "Above we also plotted two possible realizations of what the actual underlying system might be. Both are equally likely as any other draw. The blue line is what occurs when we average all the 20000 possible dotted lines together.\n",
    "\n",
    "Kenny: \"Both are equally likely as any other draw.\" Is this true? Some beta and alpha values are more likely than others.\n",
    "\n",
    "An interesting question to ask is for what temperatures are we most uncertain about the defect-probability? Below we plot the expected value line **and** the associated 95% intervals for each temperature. "
   ]
  },
  {
   "cell_type": "code",
   "execution_count": 95,
   "metadata": {
    "collapsed": false,
    "jupyter": {
     "outputs_hidden": false
    }
   },
   "outputs": [
    {
     "data": {
      "image/png": "[encoded data removed]",
      "text/plain": [
       "<Figure size 900x288 with 1 Axes>"
      ]
     },
     "metadata": {
      "needs_background": "light"
     },
     "output_type": "display_data"
    }
   ],
   "source": [
    "from scipy.stats.mstats import mquantiles\n",
    "\n",
    "# vectorized bottom and top 2.5% quantiles for \"confidence interval\"\n",
    "# Kenny: What does a quantile mean here? How do you order a set of logistic curves?\n",
    "qs = mquantiles(p_t, [0.025, 0.975], axis=0)\n",
    "plt.fill_between(t[:, 0], *qs, alpha=0.7,\n",
    "                 color=\"#7A68A6\")\n",
    "\n",
    "plt.plot(t[:, 0], qs[0], label=\"95% CI\", color=\"#7A68A6\", alpha=0.7)\n",
    "\n",
    "plt.plot(t, mean_prob_t, lw=1, ls=\"--\", color=\"k\",\n",
    "         label=\"average posterior \\nprobability of defect\")\n",
    "\n",
    "plt.xlim(t.min(), t.max())\n",
    "plt.ylim(-0.02, 1.02)\n",
    "plt.legend(loc=\"lower left\")\n",
    "plt.scatter(temperature, D, color=\"k\", s=50, alpha=0.5)\n",
    "plt.xlabel(\"temp, $t$\")\n",
    "\n",
    "plt.ylabel(\"probability estimate\")\n",
    "plt.title(\"Posterior probability estimates given temp. $t$\");"
   ]
  },
  {
   "cell_type": "markdown",
   "metadata": {},
   "source": [
    "The *95% credible interval*, or 95% CI, painted in purple, represents the interval, for each temperature, that contains 95% of the distribution. For example, at 65 degrees, we can be 95% sure that the probability of defect lies between 0.25 and 0.75.\n",
    "\n",
    "More generally, we can see that as the temperature nears 60 degrees, the CI's spread out over [0,1] quickly. As we pass 70 degrees, the CI's tighten again. This can give us insight about how to proceed next: we should probably test more O-rings around 60-65 temperature to get a better estimate of probabilities in that range. Similarly, when reporting to scientists your estimates, you should be very cautious about simply telling them the expected probability, as we can see this does not reflect how *wide* the posterior distribution is."
   ]
  },
  {
   "cell_type": "markdown",
   "metadata": {},
   "source": [
    "### What about the day of the Challenger disaster?\n"
   ]
  },
  {
   "cell_type": "markdown",
   "metadata": {},
   "source": [
    "On the day of the Challenger disaster, the outside temperature was 31 degrees Fahrenheit. What is the posterior distribution of a defect occurring,  given this temperature? The distribution is plotted below. It looks almost guaranteed that the Challenger was going to be subject to defective O-rings."
   ]
  },
  {
   "cell_type": "code",
   "execution_count": 96,
   "metadata": {
    "collapsed": false,
    "jupyter": {
     "outputs_hidden": false
    }
   },
   "outputs": [
    {
     "data": {
      "image/png": "[encoded data removed]",
      "text/plain": [
       "<Figure size 900x180 with 1 Axes>"
      ]
     },
     "metadata": {
      "needs_background": "light"
     },
     "output_type": "display_data"
    }
   ],
   "source": [
    "figsize(12.5, 2.5)\n",
    "\n",
    "prob_31 = logistic(31, beta_samples, alpha_samples)\n",
    "\n",
    "plt.xlim(0, 1)\n",
    "plt.hist(prob_31, bins=20, density=True, histtype='stepfilled')\n",
    "plt.title(\"Posterior distribution of probability of defect, given $t = 31$\")\n",
    "plt.xlabel(\"probability of defect occurring in O-ring\");"
   ]
  },
  {
   "cell_type": "markdown",
   "metadata": {},
   "source": [
    "### Is our model appropriate?"
   ]
  },
  {
   "cell_type": "markdown",
   "metadata": {},
   "source": [
    "The skeptical reader will say \"You deliberately chose the logistic function for $p(t)$ and the specific priors. Perhaps other functions or priors will give different results. How do I know I have chosen a good model?\" This is absolutely true. To consider an extreme situation, what if I had chosen the function $p(t) = 1,\\; \\forall t$, which guarantees a defect always occurring: I would have again predicted disaster on January 28th. Yet this is clearly a poorly chosen model. On the other hand, if I did choose the logistic function for $p(t)$, but specified all my priors to be very tight around 0, likely we would have very different posterior distributions. How do we know our model is an expression of the data? This encourages us to measure the model's **goodness of fit**.\n",
    "\n",
    "We can think: *how can we test whether our model is a bad fit?* An idea is to compare observed data (which if we recall is a *fixed* stochastic variable) with artificial dataset which we can simulate. The rationale is that if the simulated dataset does not appear similar, statistically, to the observed dataset, then likely our model is not accurately represented the observed data. \n",
    "\n",
    "Previously in this Chapter, we simulated artificial dataset for the SMS example. To do this, we sampled values from the priors. We saw how varied the resulting datasets looked like, and rarely did they mimic our observed dataset. In the current example,  we should sample from the *posterior* distributions to create *very plausible datasets*. Luckily, our Bayesian framework makes this very easy. We only need to create a new `Stochastic` variable, that is exactly the same as our variable that stored the observations, but minus the observations themselves. If you recall, our `Stochastic` variable that stored our observed data was:\n",
    "\n",
    "    observed = pm.Bernoulli(\"bernoulli_obs\", p, observed=D)\n",
    "\n",
    "Hence we create:\n",
    "    \n",
    "    simulated_data = pm.Bernoulli(\"simulation_data\", p)\n",
    "\n",
    "Let's simulate 10 000:"
   ]
  },
  {
   "cell_type": "code",
   "execution_count": null,
   "metadata": {
    "collapsed": false,
    "jupyter": {
     "outputs_hidden": false
    }
   },
   "outputs": [],
   "source": [
    "N = 10000\n",
    "with pm.Model() as model:\n",
    "    beta = pm.Normal(\"beta\", mu=0, tau=0.001, testval=0)\n",
    "    alpha = pm.Normal(\"alpha\", mu=0, tau=0.001, testval=0)\n",
    "    p = pm.Deterministic(\"p\", 1.0/(1. + tt.exp(beta*temperature + alpha)))\n",
    "    observed = pm.Bernoulli(\"bernoulli_obs\", p, observed=D)\n",
    "    \n",
    "    # Kenny: I don't fully understand why simulated is here. Are we randomly \n",
    "    # sampling beta and alpha from the super wide priors to produce simulated data? \n",
    "    # Shouldn't we produce simulated data from the converged beta and alpha distributions?\n",
    "    simulated = pm.Bernoulli(\"bernoulli_sim\", p, shape=p.tag.test_value.shape)  # shape=(23, )\n",
    "    step = pm.Metropolis(vars=[p])\n",
    "    trace = pm.sample(N, step=step)"
   ]
  },
  {
   "cell_type": "code",
   "execution_count": null,
   "metadata": {
    "collapsed": false,
    "jupyter": {
     "outputs_hidden": false
    }
   },
   "outputs": [],
   "source": [
    "figsize(12.5, 5)\n",
    "\n",
    "simulations = trace[\"bernoulli_sim\"]\n",
    "print(simulations.shape)\n",
    "\n",
    "plt.title(\"Simulated dataset using posterior parameters\")\n",
    "figsize(12.5, 6)\n",
    "for i in range(4):\n",
    "    ax = plt.subplot(4, 1, i+1)\n",
    "    plt.scatter(temperature, simulations[1000*i, :], color=\"k\",\n",
    "                s=50, alpha=0.6)"
   ]
  },
  {
   "cell_type": "markdown",
   "metadata": {},
   "source": [
    "Note that the above plots are different (if you can think of a cleaner way to present this, please send a pull request and answer [here](http://stats.stackexchange.com/questions/53078/how-to-visualize-bayesian-goodness-of-fit-for-logistic-regression)!).\n",
    "\n",
    "We wish to assess how good our model is. \"Good\" is a subjective term of course, so results must be relative to other models. \n",
    "\n",
    "We will be doing this graphically as well, which may seem like an even less objective method. The alternative is to use *Bayesian p-values*. These are still subjective, as the proper cutoff between good and bad is arbitrary. Gelman emphasises that the graphical tests are more illuminating [7] than p-value tests. We agree.\n",
    "\n",
    "The following graphical test is a novel data-viz approach to logistic regression. The plots are called *separation plots*[8]. For a suite of models we wish to compare, each model is plotted on an individual separation plot. I leave most of the technical details about separation plots to the very accessible [original paper](http://mdwardlab.com/sites/default/files/GreenhillWardSacks.pdf), but I'll summarize their use here.\n",
    "\n",
    "For each model, we calculate the proportion of times the posterior simulation proposed a value of 1 for a particular temperature, i.e. compute $P( \\;\\text{Defect} = 1 | t, \\alpha, \\beta )$ by averaging. This gives us the posterior probability of a defect at each data point in our dataset. For example, for the model we used above:"
   ]
  },
  {
   "cell_type": "code",
   "execution_count": null,
   "metadata": {},
   "outputs": [],
   "source": [
    "# Kenny: I don't really understand this method.\n",
    "# We first generate simulated data, and then averaging that simulated data to get the average posterior_probability.\n",
    "# Why not just average the posterior of p directly?\n",
    "# We did that in an earlier section for \"let's look at the expected probability for a specific value of the temperature\".\n",
    "# Copying the code to do apply it here:\n",
    "\n",
    "t = temperature[:, None]\n",
    "p_t = logistic(t.T, beta_samples, alpha_samples)\n",
    "mean_prob_t = p_t.mean(axis=0)\n",
    "# mean_prob_t  # It's in the table below"
   ]
  },
  {
   "cell_type": "code",
   "execution_count": null,
   "metadata": {
    "collapsed": false,
    "jupyter": {
     "outputs_hidden": false
    }
   },
   "outputs": [],
   "source": [
    "# simulations has shape (20000, 23)\n",
    "# It contains 20000 simulations of predicted defects at the 23 temperature points\n",
    "# We average across all 20000 simulates to get the observed probability of failure\n",
    "\n",
    "posterior_probability = simulations.mean(axis=0)\n",
    "print(\"temperature | posterior prob of defect | Kenny's mean_prob_t | realized defect \")\n",
    "for i in range(len(D)):\n",
    "    print(\"%d          |  %.2f                    |  %.2f               |   %d\" % (temperature[i], posterior_probability[i], mean_prob_t[i], D[i]))\n",
    "    \n",
    "# Note that the posterior_probability and mean_prob_t kind of match, but can vary up to 0.2.\n",
    "# Also, it's weird that posterior_probability is different for the same value of temperature...."
   ]
  },
  {
   "cell_type": "markdown",
   "metadata": {},
   "source": [
    "Next we sort each column by the posterior probabilities:"
   ]
  },
  {
   "cell_type": "code",
   "execution_count": null,
   "metadata": {
    "collapsed": false,
    "jupyter": {
     "outputs_hidden": false
    }
   },
   "outputs": [],
   "source": [
    "ix = np.argsort(posterior_probability)\n",
    "print(\"probb | defect \")\n",
    "for i in range(len(D)):\n",
    "    print(\"%.2f  |   %d\" % (posterior_probability[ix[i]], D[ix[i]]))"
   ]
  },
  {
   "cell_type": "markdown",
   "metadata": {},
   "source": [
    "We can present the above data better in a figure: I've wrapped this up into a `separation_plot` function."
   ]
  },
  {
   "cell_type": "code",
   "execution_count": null,
   "metadata": {
    "collapsed": false,
    "jupyter": {
     "outputs_hidden": false
    }
   },
   "outputs": [],
   "source": [
    "from separation_plot import separation_plot\n",
    "\n",
    "\n",
    "figsize(11., 1.5)\n",
    "separation_plot(posterior_probability, D)"
   ]
  },
  {
   "cell_type": "markdown",
   "metadata": {},
   "source": [
    "The snaking-line is the sorted probabilities, blue bars denote defects, and empty space (or grey bars for the optimistic readers) denote non-defects.  As the probability rises, we see more and more defects occur. On the right hand side, the plot suggests that as the posterior probability is large (line close to 1), then more defects are realized. This is good behaviour. Ideally, all the blue bars *should* be close to the right-hand side, and deviations from this reflect missed predictions. \n",
    "\n",
    "The black vertical line is the expected number of defects we should observe, given this model. This allows the user to see how the total number of events predicted by the model compares to the actual number of events in the data.\n",
    "\n",
    "It is much more informative to compare this to separation plots for other models. Below we compare our model (top) versus three others:\n",
    "\n",
    "1. the perfect model, which predicts the posterior probability to be equal 1 if a defect did occur.\n",
    "2. a completely random model, which predicts random probabilities regardless of temperature.\n",
    "3. a constant model:  where $P(D = 1 \\; | \\; t) = c, \\;\\; \\forall t$. The best choice for $c$ is the observed frequency of defects, in this case 7/23.  \n"
   ]
  },
  {
   "cell_type": "code",
   "execution_count": null,
   "metadata": {
    "collapsed": false,
    "jupyter": {
     "outputs_hidden": false
    }
   },
   "outputs": [],
   "source": [
    "figsize(11., 1.25)\n",
    "\n",
    "# Our temperature-dependent model\n",
    "separation_plot(posterior_probability, D)\n",
    "plt.title(\"Temperature-dependent model\")\n",
    "\n",
    "# Perfect model\n",
    "# i.e. the probability of defect is equal to if a defect occurred or not.\n",
    "p = D\n",
    "separation_plot(p, D)\n",
    "plt.title(\"Perfect model\")\n",
    "\n",
    "# random predictions\n",
    "p = np.random.rand(23)\n",
    "separation_plot(p, D)\n",
    "plt.title(\"Random model\")\n",
    "\n",
    "# constant model\n",
    "constant_prob = 7./23*np.ones(23)\n",
    "separation_plot(constant_prob, D)\n",
    "plt.title(\"Constant-prediction model\");"
   ]
  },
  {
   "cell_type": "markdown",
   "metadata": {},
   "source": [
    "In the random model, we can see that as the probability increases there is no clustering of defects to the right-hand side. Similarly for the constant model.\n",
    "\n",
    "The perfect model, the probability line is not well shown, as it is stuck to the bottom and top of the figure. Of course the perfect model is only for demonstration, and we cannot infer any scientific inference from it."
   ]
  },
  {
   "cell_type": "markdown",
   "metadata": {},
   "source": [
    "## Exercises\n"
   ]
  },
  {
   "cell_type": "markdown",
   "metadata": {},
   "source": [
    "See `Ch2 Exercises.ipynb`."
   ]
  },
  {
   "cell_type": "markdown",
   "metadata": {},
   "source": [
    "## References\n"
   ]
  },
  {
   "cell_type": "markdown",
   "metadata": {},
   "source": [
    "-  [1] Dalal, Fowlkes and Hoadley (1989),JASA, 84, 945-957.\n",
    "-  [2] German Rodriguez. Datasets. In WWS509. Retrieved 30/01/2013, from <http://data.princeton.edu/wws509/datasets/#smoking>.\n",
    "-  [3] McLeish, Don, and Cyntha Struthers. STATISTICS 450/850 Estimation and Hypothesis Testing. Winter 2012. Waterloo, Ontario: 2012. Print.\n",
    "-  [4] Fonnesbeck, Christopher. \"Building Models.\" PyMC-Devs. N.p., n.d. Web. 26 Feb 2013. <http://pymc-devs.github.com/pymc/modelbuilding.html>.\n",
    "- [5] Cronin, Beau. \"Why Probabilistic Programming Matters.\" 24 Mar 2013. Google, Online Posting to Google . Web. 24 Mar. 2013. <https://plus.google.com/u/0/107971134877020469960/posts/KpeRdJKR6Z1>.\n",
    "- [6] S.P. Brooks, E.A. Catchpole, and B.J.T. Morgan. Bayesian animal survival estimation. Statistical Science, 15: 357–376, 2000\n",
    "- [7] Gelman, Andrew. \"Philosophy and the practice of Bayesian statistics.\" British Journal of Mathematical and Statistical Psychology. (2012): n. page. Web. 2 Apr. 2013.\n",
    "- [8] Greenhill, Brian, Michael D. Ward, and Audrey Sacks. \"The Separation Plot: A New Visual Method for Evaluating the Fit of Binary Models.\" American Journal of Political Science. 55.No.4 (2011): n. page. Web. 2 Apr. 2013."
   ]
  }
 ],
 "metadata": {
  "anaconda-cloud": {},
  "kernelspec": {
   "display_name": "Python 3",
   "language": "python",
   "name": "python3"
  },
  "language_info": {
   "codemirror_mode": {
    "name": "ipython",
    "version": 3
   },
   "file_extension": ".py",
   "mimetype": "text/x-python",
   "name": "python",
   "nbconvert_exporter": "python",
   "pygments_lexer": "ipython3",
   "version": "3.7.6"
  },
  "toc-autonumbering": false,
  "toc-showcode": false,
  "toc-showmarkdowntxt": false,
  "toc-showtags": false
 },
 "nbformat": 4,
 "nbformat_minor": 4
}
