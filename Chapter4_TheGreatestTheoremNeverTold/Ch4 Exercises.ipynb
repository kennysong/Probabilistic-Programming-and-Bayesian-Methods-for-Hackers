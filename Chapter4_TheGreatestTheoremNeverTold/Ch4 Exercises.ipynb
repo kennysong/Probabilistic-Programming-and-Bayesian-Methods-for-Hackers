{
 "cells": [
  {
   "cell_type": "code",
   "execution_count": 1,
   "metadata": {},
   "outputs": [],
   "source": [
    "import matplotlib.pyplot as plt\n",
    "import numpy as np\n",
    "import pymc3 as pm"
   ]
  },
  {
   "cell_type": "markdown",
   "metadata": {
    "collapsed": "true"
   },
   "source": [
    "## Question 1"
   ]
  },
  {
   "cell_type": "markdown",
   "metadata": {},
   "source": [
    "1\\. How would you estimate the quantity $E\\left[ \\cos{X} \\right]$, where $X \\sim \\text{Exp}(4)$? What about $E\\left[ \\cos{X} | X \\lt 1\\right]$, i.e. the expected value *given* we know $X$ is less than 1? Would you need more samples than the original samples size to be equally accurate?"
   ]
  },
  {
   "cell_type": "markdown",
   "metadata": {},
   "source": [
    "Uncomment images in this cell to see graphs.\n",
    "\n",
    "<!-- ![exp(4)](exp4.png) -->\n",
    "\n",
    "<!-- ![cos(x)](cos.png) -->"
   ]
  },
  {
   "cell_type": "code",
   "execution_count": 33,
   "metadata": {
    "collapsed": false,
    "jupyter": {
     "outputs_hidden": false
    }
   },
   "outputs": [],
   "source": [
    "import scipy.stats as stats\n",
    "from numpy import cos\n",
    "exp = stats.expon(scale=4)\n",
    "X = exp.rvs(10)\n",
    "Y = cos(X)"
   ]
  },
  {
   "cell_type": "code",
   "execution_count": 34,
   "metadata": {},
   "outputs": [
    {
     "data": {
      "text/plain": [
       "(array([4.89405178, 0.77530458, 3.8263038 , 2.53851671, 2.86502879,\n",
       "        4.25445539, 6.33830541, 3.35780522, 4.87757738, 0.83536962]),\n",
       " array([ 0.18066526,  0.71420788, -0.77460177, -0.8235949 , -0.96199936,\n",
       "        -0.44209555,  0.99848127, -0.97671698,  0.16443817,  0.67090364]),\n",
       " array([0.71420788, 0.67090364]))"
      ]
     },
     "execution_count": 34,
     "metadata": {},
     "output_type": "execute_result"
    }
   ],
   "source": [
    "X, cos(X), cos(X[X<1])"
   ]
  },
  {
   "cell_type": "code",
   "execution_count": 35,
   "metadata": {},
   "outputs": [
    {
     "data": {
      "text/plain": [
       "-0.12503123287993606"
      ]
     },
     "execution_count": 35,
     "metadata": {},
     "output_type": "execute_result"
    }
   ],
   "source": [
    "# E(cos(X)) <= mean(cos(X_i)) for i in a sample\n",
    "cos(X).mean()"
   ]
  },
  {
   "cell_type": "code",
   "execution_count": 36,
   "metadata": {},
   "outputs": [
    {
     "data": {
      "text/plain": [
       "0.6925557605303888"
      ]
     },
     "execution_count": 36,
     "metadata": {},
     "output_type": "execute_result"
    }
   ],
   "source": [
    "# E(cos(X) | X < 1) <= mean(cos(X_j)) for j in a sample where all X_j < 1\n",
    "# Yes, this requires more samples overall since we're filtering many out\n",
    "cos(X[X<1]).mean()"
   ]
  },
  {
   "cell_type": "markdown",
   "metadata": {
    "collapsed": "true"
   },
   "source": [
    "## Question 2"
   ]
  },
  {
   "cell_type": "markdown",
   "metadata": {},
   "source": [
    "2\\. The following table was located in the paper \"Going for Three: Predicting the Likelihood of Field Goal Success with Logistic Regression\" [2]. The table ranks football field-goal kickers by their percent of non-misses. What mistake have the researchers made?\n",
    "\n",
    "-----\n",
    "\n",
    "####  Kicker Careers Ranked by Make Percentage\n",
    "<table><tbody><tr><th>Rank </th><th>Kicker </th><th>Make % </th><th>Number  of Kicks</th></tr><tr><td>1 </td><td>Garrett Hartley </td><td>87.7 </td><td>57</td></tr><tr><td>2</td><td> Matt Stover </td><td>86.8 </td><td>335</td></tr><tr><td>3 </td><td>Robbie Gould </td><td>86.2 </td><td>224</td></tr><tr><td>4 </td><td>Rob Bironas </td><td>86.1 </td><td>223</td></tr><tr><td>5</td><td> Shayne Graham </td><td>85.4 </td><td>254</td></tr><tr><td>… </td><td>… </td><td>…</td><td> </td></tr><tr><td>51</td><td> Dave Rayner </td><td>72.2 </td><td>90</td></tr><tr><td>52</td><td> Nick Novak </td><td>71.9 </td><td>64</td></tr><tr><td>53 </td><td>Tim Seder </td><td>71.0 </td><td>62</td></tr><tr><td>54 </td><td>Jose Cortez </td><td>70.7</td><td> 75</td></tr><tr><td>55 </td><td>Wade Richey </td><td>66.1</td><td> 56</td></tr></tbody></table>"
   ]
  },
  {
   "cell_type": "markdown",
   "metadata": {},
   "source": [
    "In August 2013, [a popular post](http://bpodgursky.wordpress.com/2013/08/21/average-income-per-programming-language/) on the average income per programmer of different languages was trending. Here's the summary chart: (reproduced without permission, cause when you lie with stats, you gunna get the hammer). What do you notice about the extremes?\n",
    "\n",
    "------\n",
    "\n",
    "#### Average household income by programming language\n",
    "\n",
    "<table >\n",
    " <tr><td>Language</td><td>Average Household Income ($)</td><td>Data Points</td></tr>\n",
    " <tr><td>Puppet</td><td>87,589.29</td><td>112</td></tr>\n",
    " <tr><td>Haskell</td><td>89,973.82</td><td>191</td></tr>\n",
    " <tr><td>PHP</td><td>94,031.19</td><td>978</td></tr>\n",
    " <tr><td>CoffeeScript</td><td>94,890.80</td><td>435</td></tr>\n",
    " <tr><td>VimL</td><td>94,967.11</td><td>532</td></tr>\n",
    " <tr><td>Shell</td><td>96,930.54</td><td>979</td></tr>\n",
    " <tr><td>Lua</td><td>96,930.69</td><td>101</td></tr>\n",
    " <tr><td>Erlang</td><td>97,306.55</td><td>168</td></tr>\n",
    " <tr><td>Clojure</td><td>97,500.00</td><td>269</td></tr>\n",
    " <tr><td>Python</td><td>97,578.87</td><td>2314</td></tr>\n",
    " <tr><td>JavaScript</td><td>97,598.75</td><td>3443</td></tr>\n",
    " <tr><td>Emacs Lisp</td><td>97,774.65</td><td>355</td></tr>\n",
    " <tr><td>C#</td><td>97,823.31</td><td>665</td></tr>\n",
    " <tr><td>Ruby</td><td>98,238.74</td><td>3242</td></tr>\n",
    " <tr><td>C++</td><td>99,147.93</td><td>845</td></tr>\n",
    " <tr><td>CSS</td><td>99,881.40</td><td>527</td></tr>\n",
    " <tr><td>Perl</td><td>100,295.45</td><td>990</td></tr>\n",
    " <tr><td>C</td><td>100,766.51</td><td>2120</td></tr>\n",
    " <tr><td>Go</td><td>101,158.01</td><td>231</td></tr>\n",
    " <tr><td>Scala</td><td>101,460.91</td><td>243</td></tr>\n",
    " <tr><td>ColdFusion</td><td>101,536.70</td><td>109</td></tr>\n",
    " <tr><td>Objective-C</td><td>101,801.60</td><td>562</td></tr>\n",
    " <tr><td>Groovy</td><td>102,650.86</td><td>116</td></tr>\n",
    " <tr><td>Java</td><td>103,179.39</td><td>1402</td></tr>\n",
    " <tr><td>XSLT</td><td>106,199.19</td><td>123</td></tr>\n",
    " <tr><td>ActionScript</td><td>108,119.47</td><td>113</td></tr>\n",
    "</table>"
   ]
  }
 ],
 "metadata": {
  "kernelspec": {
   "display_name": "Python 3",
   "language": "python",
   "name": "python3"
  },
  "language_info": {
   "codemirror_mode": {
    "name": "ipython",
    "version": 3
   },
   "file_extension": ".py",
   "mimetype": "text/x-python",
   "name": "python",
   "nbconvert_exporter": "python",
   "pygments_lexer": "ipython3",
   "version": "3.7.6"
  }
 },
 "nbformat": 4,
 "nbformat_minor": 4
}
